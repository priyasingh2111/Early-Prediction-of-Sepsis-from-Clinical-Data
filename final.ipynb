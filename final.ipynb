{
  "cells": [
    {
      "cell_type": "code",
      "execution_count": 1,
      "metadata": {
        "id": "0ZSnBBwrlkX6"
      },
      "outputs": [],
      "source": [
        "import pandas as pd\n",
        "import seaborn as sns \n",
        "import numpy as np\n",
        "import matplotlib.pyplot as plt\n",
        "from sklearn.metrics import confusion_matrix\n",
        "from sklearn.model_selection import train_test_split\n",
        "from sklearn.metrics import accuracy_score, precision_score, recall_score, f1_score\n",
        "from sklearn.metrics import confusion_matrix, roc_auc_score, mean_absolute_error, mean_squared_error\n",
        "from sklearn.preprocessing import StandardScaler\n",
        "import scipy.stats as stats\n",
        "from sklearn.metrics import roc_curve\n",
        "from sklearn.metrics import RocCurveDisplay\n",
        "from sklearn.metrics import roc_auc_score"
      ]
    },
    {
      "cell_type": "code",
      "execution_count": 2,
      "metadata": {
        "colab": {
          "base_uri": "https://localhost:8080/",
          "height": 392
        },
        "id": "XAFUx2pVlowM",
        "outputId": "056876b9-c27c-414a-92a8-7e21d7252554"
      },
      "outputs": [
        {
          "ename": "FileNotFoundError",
          "evalue": "ignored",
          "output_type": "error",
          "traceback": [
            "\u001b[0;31m---------------------------------------------------------------------------\u001b[0m",
            "\u001b[0;31mFileNotFoundError\u001b[0m                         Traceback (most recent call last)",
            "\u001b[0;32m<ipython-input-2-761c7d35dc03>\u001b[0m in \u001b[0;36m<cell line: 1>\u001b[0;34m()\u001b[0m\n\u001b[0;32m----> 1\u001b[0;31m \u001b[0mcombined\u001b[0m \u001b[0;34m=\u001b[0m \u001b[0mpd\u001b[0m\u001b[0;34m.\u001b[0m\u001b[0mread_csv\u001b[0m\u001b[0;34m(\u001b[0m\u001b[0;34m'sample_data/Dataset.csv'\u001b[0m\u001b[0;34m)\u001b[0m\u001b[0;34m\u001b[0m\u001b[0;34m\u001b[0m\u001b[0m\n\u001b[0m\u001b[1;32m      2\u001b[0m \u001b[0;34m\u001b[0m\u001b[0m\n\u001b[1;32m      3\u001b[0m \u001b[0mrows_to_drop\u001b[0m \u001b[0;34m=\u001b[0m \u001b[0mcombined\u001b[0m\u001b[0;34m.\u001b[0m\u001b[0mloc\u001b[0m\u001b[0;34m[\u001b[0m\u001b[0mcombined\u001b[0m\u001b[0;34m[\u001b[0m\u001b[0;34m'Patient_ID'\u001b[0m\u001b[0;34m]\u001b[0m\u001b[0;34m.\u001b[0m\u001b[0mapply\u001b[0m\u001b[0;34m(\u001b[0m\u001b[0;32mlambda\u001b[0m \u001b[0mx\u001b[0m\u001b[0;34m:\u001b[0m \u001b[0mlen\u001b[0m\u001b[0;34m(\u001b[0m\u001b[0mstr\u001b[0m\u001b[0;34m(\u001b[0m\u001b[0mx\u001b[0m\u001b[0;34m)\u001b[0m\u001b[0;34m)\u001b[0m \u001b[0;34m==\u001b[0m \u001b[0;36m6\u001b[0m\u001b[0;34m)\u001b[0m\u001b[0;34m]\u001b[0m\u001b[0;34m\u001b[0m\u001b[0;34m\u001b[0m\u001b[0m\n\u001b[1;32m      4\u001b[0m \u001b[0mdf_train\u001b[0m \u001b[0;34m=\u001b[0m \u001b[0mcombined\u001b[0m\u001b[0;34m.\u001b[0m\u001b[0mdrop\u001b[0m\u001b[0;34m(\u001b[0m\u001b[0mrows_to_drop\u001b[0m\u001b[0;34m.\u001b[0m\u001b[0mindex\u001b[0m\u001b[0;34m)\u001b[0m\u001b[0;34m\u001b[0m\u001b[0;34m\u001b[0m\u001b[0m\n\u001b[1;32m      5\u001b[0m \u001b[0mdf_train\u001b[0m\u001b[0;34m.\u001b[0m\u001b[0mto_csv\u001b[0m\u001b[0;34m(\u001b[0m\u001b[0;34m'data_part1.csv'\u001b[0m\u001b[0;34m,\u001b[0m \u001b[0mindex\u001b[0m\u001b[0;34m=\u001b[0m\u001b[0;32mFalse\u001b[0m\u001b[0;34m)\u001b[0m\u001b[0;34m\u001b[0m\u001b[0;34m\u001b[0m\u001b[0m\n",
            "\u001b[0;32m/usr/local/lib/python3.10/dist-packages/pandas/util/_decorators.py\u001b[0m in \u001b[0;36mwrapper\u001b[0;34m(*args, **kwargs)\u001b[0m\n\u001b[1;32m    209\u001b[0m                 \u001b[0;32melse\u001b[0m\u001b[0;34m:\u001b[0m\u001b[0;34m\u001b[0m\u001b[0;34m\u001b[0m\u001b[0m\n\u001b[1;32m    210\u001b[0m                     \u001b[0mkwargs\u001b[0m\u001b[0;34m[\u001b[0m\u001b[0mnew_arg_name\u001b[0m\u001b[0;34m]\u001b[0m \u001b[0;34m=\u001b[0m \u001b[0mnew_arg_value\u001b[0m\u001b[0;34m\u001b[0m\u001b[0;34m\u001b[0m\u001b[0m\n\u001b[0;32m--> 211\u001b[0;31m             \u001b[0;32mreturn\u001b[0m \u001b[0mfunc\u001b[0m\u001b[0;34m(\u001b[0m\u001b[0;34m*\u001b[0m\u001b[0margs\u001b[0m\u001b[0;34m,\u001b[0m \u001b[0;34m**\u001b[0m\u001b[0mkwargs\u001b[0m\u001b[0;34m)\u001b[0m\u001b[0;34m\u001b[0m\u001b[0;34m\u001b[0m\u001b[0m\n\u001b[0m\u001b[1;32m    212\u001b[0m \u001b[0;34m\u001b[0m\u001b[0m\n\u001b[1;32m    213\u001b[0m         \u001b[0;32mreturn\u001b[0m \u001b[0mcast\u001b[0m\u001b[0;34m(\u001b[0m\u001b[0mF\u001b[0m\u001b[0;34m,\u001b[0m \u001b[0mwrapper\u001b[0m\u001b[0;34m)\u001b[0m\u001b[0;34m\u001b[0m\u001b[0;34m\u001b[0m\u001b[0m\n",
            "\u001b[0;32m/usr/local/lib/python3.10/dist-packages/pandas/util/_decorators.py\u001b[0m in \u001b[0;36mwrapper\u001b[0;34m(*args, **kwargs)\u001b[0m\n\u001b[1;32m    329\u001b[0m                     \u001b[0mstacklevel\u001b[0m\u001b[0;34m=\u001b[0m\u001b[0mfind_stack_level\u001b[0m\u001b[0;34m(\u001b[0m\u001b[0;34m)\u001b[0m\u001b[0;34m,\u001b[0m\u001b[0;34m\u001b[0m\u001b[0;34m\u001b[0m\u001b[0m\n\u001b[1;32m    330\u001b[0m                 )\n\u001b[0;32m--> 331\u001b[0;31m             \u001b[0;32mreturn\u001b[0m \u001b[0mfunc\u001b[0m\u001b[0;34m(\u001b[0m\u001b[0;34m*\u001b[0m\u001b[0margs\u001b[0m\u001b[0;34m,\u001b[0m \u001b[0;34m**\u001b[0m\u001b[0mkwargs\u001b[0m\u001b[0;34m)\u001b[0m\u001b[0;34m\u001b[0m\u001b[0;34m\u001b[0m\u001b[0m\n\u001b[0m\u001b[1;32m    332\u001b[0m \u001b[0;34m\u001b[0m\u001b[0m\n\u001b[1;32m    333\u001b[0m         \u001b[0;31m# error: \"Callable[[VarArg(Any), KwArg(Any)], Any]\" has no\u001b[0m\u001b[0;34m\u001b[0m\u001b[0;34m\u001b[0m\u001b[0m\n",
            "\u001b[0;32m/usr/local/lib/python3.10/dist-packages/pandas/io/parsers/readers.py\u001b[0m in \u001b[0;36mread_csv\u001b[0;34m(filepath_or_buffer, sep, delimiter, header, names, index_col, usecols, squeeze, prefix, mangle_dupe_cols, dtype, engine, converters, true_values, false_values, skipinitialspace, skiprows, skipfooter, nrows, na_values, keep_default_na, na_filter, verbose, skip_blank_lines, parse_dates, infer_datetime_format, keep_date_col, date_parser, dayfirst, cache_dates, iterator, chunksize, compression, thousands, decimal, lineterminator, quotechar, quoting, doublequote, escapechar, comment, encoding, encoding_errors, dialect, error_bad_lines, warn_bad_lines, on_bad_lines, delim_whitespace, low_memory, memory_map, float_precision, storage_options)\u001b[0m\n\u001b[1;32m    948\u001b[0m     \u001b[0mkwds\u001b[0m\u001b[0;34m.\u001b[0m\u001b[0mupdate\u001b[0m\u001b[0;34m(\u001b[0m\u001b[0mkwds_defaults\u001b[0m\u001b[0;34m)\u001b[0m\u001b[0;34m\u001b[0m\u001b[0;34m\u001b[0m\u001b[0m\n\u001b[1;32m    949\u001b[0m \u001b[0;34m\u001b[0m\u001b[0m\n\u001b[0;32m--> 950\u001b[0;31m     \u001b[0;32mreturn\u001b[0m \u001b[0m_read\u001b[0m\u001b[0;34m(\u001b[0m\u001b[0mfilepath_or_buffer\u001b[0m\u001b[0;34m,\u001b[0m \u001b[0mkwds\u001b[0m\u001b[0;34m)\u001b[0m\u001b[0;34m\u001b[0m\u001b[0;34m\u001b[0m\u001b[0m\n\u001b[0m\u001b[1;32m    951\u001b[0m \u001b[0;34m\u001b[0m\u001b[0m\n\u001b[1;32m    952\u001b[0m \u001b[0;34m\u001b[0m\u001b[0m\n",
            "\u001b[0;32m/usr/local/lib/python3.10/dist-packages/pandas/io/parsers/readers.py\u001b[0m in \u001b[0;36m_read\u001b[0;34m(filepath_or_buffer, kwds)\u001b[0m\n\u001b[1;32m    603\u001b[0m \u001b[0;34m\u001b[0m\u001b[0m\n\u001b[1;32m    604\u001b[0m     \u001b[0;31m# Create the parser.\u001b[0m\u001b[0;34m\u001b[0m\u001b[0;34m\u001b[0m\u001b[0m\n\u001b[0;32m--> 605\u001b[0;31m     \u001b[0mparser\u001b[0m \u001b[0;34m=\u001b[0m \u001b[0mTextFileReader\u001b[0m\u001b[0;34m(\u001b[0m\u001b[0mfilepath_or_buffer\u001b[0m\u001b[0;34m,\u001b[0m \u001b[0;34m**\u001b[0m\u001b[0mkwds\u001b[0m\u001b[0;34m)\u001b[0m\u001b[0;34m\u001b[0m\u001b[0;34m\u001b[0m\u001b[0m\n\u001b[0m\u001b[1;32m    606\u001b[0m \u001b[0;34m\u001b[0m\u001b[0m\n\u001b[1;32m    607\u001b[0m     \u001b[0;32mif\u001b[0m \u001b[0mchunksize\u001b[0m \u001b[0;32mor\u001b[0m \u001b[0miterator\u001b[0m\u001b[0;34m:\u001b[0m\u001b[0;34m\u001b[0m\u001b[0;34m\u001b[0m\u001b[0m\n",
            "\u001b[0;32m/usr/local/lib/python3.10/dist-packages/pandas/io/parsers/readers.py\u001b[0m in \u001b[0;36m__init__\u001b[0;34m(self, f, engine, **kwds)\u001b[0m\n\u001b[1;32m   1440\u001b[0m \u001b[0;34m\u001b[0m\u001b[0m\n\u001b[1;32m   1441\u001b[0m         \u001b[0mself\u001b[0m\u001b[0;34m.\u001b[0m\u001b[0mhandles\u001b[0m\u001b[0;34m:\u001b[0m \u001b[0mIOHandles\u001b[0m \u001b[0;34m|\u001b[0m \u001b[0;32mNone\u001b[0m \u001b[0;34m=\u001b[0m \u001b[0;32mNone\u001b[0m\u001b[0;34m\u001b[0m\u001b[0;34m\u001b[0m\u001b[0m\n\u001b[0;32m-> 1442\u001b[0;31m         \u001b[0mself\u001b[0m\u001b[0;34m.\u001b[0m\u001b[0m_engine\u001b[0m \u001b[0;34m=\u001b[0m \u001b[0mself\u001b[0m\u001b[0;34m.\u001b[0m\u001b[0m_make_engine\u001b[0m\u001b[0;34m(\u001b[0m\u001b[0mf\u001b[0m\u001b[0;34m,\u001b[0m \u001b[0mself\u001b[0m\u001b[0;34m.\u001b[0m\u001b[0mengine\u001b[0m\u001b[0;34m)\u001b[0m\u001b[0;34m\u001b[0m\u001b[0;34m\u001b[0m\u001b[0m\n\u001b[0m\u001b[1;32m   1443\u001b[0m \u001b[0;34m\u001b[0m\u001b[0m\n\u001b[1;32m   1444\u001b[0m     \u001b[0;32mdef\u001b[0m \u001b[0mclose\u001b[0m\u001b[0;34m(\u001b[0m\u001b[0mself\u001b[0m\u001b[0;34m)\u001b[0m \u001b[0;34m->\u001b[0m \u001b[0;32mNone\u001b[0m\u001b[0;34m:\u001b[0m\u001b[0;34m\u001b[0m\u001b[0;34m\u001b[0m\u001b[0m\n",
            "\u001b[0;32m/usr/local/lib/python3.10/dist-packages/pandas/io/parsers/readers.py\u001b[0m in \u001b[0;36m_make_engine\u001b[0;34m(self, f, engine)\u001b[0m\n\u001b[1;32m   1733\u001b[0m                 \u001b[0;32mif\u001b[0m \u001b[0;34m\"b\"\u001b[0m \u001b[0;32mnot\u001b[0m \u001b[0;32min\u001b[0m \u001b[0mmode\u001b[0m\u001b[0;34m:\u001b[0m\u001b[0;34m\u001b[0m\u001b[0;34m\u001b[0m\u001b[0m\n\u001b[1;32m   1734\u001b[0m                     \u001b[0mmode\u001b[0m \u001b[0;34m+=\u001b[0m \u001b[0;34m\"b\"\u001b[0m\u001b[0;34m\u001b[0m\u001b[0;34m\u001b[0m\u001b[0m\n\u001b[0;32m-> 1735\u001b[0;31m             self.handles = get_handle(\n\u001b[0m\u001b[1;32m   1736\u001b[0m                 \u001b[0mf\u001b[0m\u001b[0;34m,\u001b[0m\u001b[0;34m\u001b[0m\u001b[0;34m\u001b[0m\u001b[0m\n\u001b[1;32m   1737\u001b[0m                 \u001b[0mmode\u001b[0m\u001b[0;34m,\u001b[0m\u001b[0;34m\u001b[0m\u001b[0;34m\u001b[0m\u001b[0m\n",
            "\u001b[0;32m/usr/local/lib/python3.10/dist-packages/pandas/io/common.py\u001b[0m in \u001b[0;36mget_handle\u001b[0;34m(path_or_buf, mode, encoding, compression, memory_map, is_text, errors, storage_options)\u001b[0m\n\u001b[1;32m    854\u001b[0m         \u001b[0;32mif\u001b[0m \u001b[0mioargs\u001b[0m\u001b[0;34m.\u001b[0m\u001b[0mencoding\u001b[0m \u001b[0;32mand\u001b[0m \u001b[0;34m\"b\"\u001b[0m \u001b[0;32mnot\u001b[0m \u001b[0;32min\u001b[0m \u001b[0mioargs\u001b[0m\u001b[0;34m.\u001b[0m\u001b[0mmode\u001b[0m\u001b[0;34m:\u001b[0m\u001b[0;34m\u001b[0m\u001b[0;34m\u001b[0m\u001b[0m\n\u001b[1;32m    855\u001b[0m             \u001b[0;31m# Encoding\u001b[0m\u001b[0;34m\u001b[0m\u001b[0;34m\u001b[0m\u001b[0m\n\u001b[0;32m--> 856\u001b[0;31m             handle = open(\n\u001b[0m\u001b[1;32m    857\u001b[0m                 \u001b[0mhandle\u001b[0m\u001b[0;34m,\u001b[0m\u001b[0;34m\u001b[0m\u001b[0;34m\u001b[0m\u001b[0m\n\u001b[1;32m    858\u001b[0m                 \u001b[0mioargs\u001b[0m\u001b[0;34m.\u001b[0m\u001b[0mmode\u001b[0m\u001b[0;34m,\u001b[0m\u001b[0;34m\u001b[0m\u001b[0;34m\u001b[0m\u001b[0m\n",
            "\u001b[0;31mFileNotFoundError\u001b[0m: [Errno 2] No such file or directory: 'sample_data/Dataset.csv'"
          ]
        }
      ],
      "source": [
        "combined = pd.read_csv('data/Dataset.csv')\n",
        "\n",
        "rows_to_drop = combined.loc[combined['Patient_ID'].apply(lambda x: len(str(x)) == 6)]\n",
        "df_train = combined.drop(rows_to_drop.index)\n",
        "df_train.to_csv('data/data_part1.csv', index=False)\n",
        "\n",
        "rows_to_drop = combined.loc[combined['Patient_ID'].apply(lambda x: len(str(x)) != 6)]\n",
        "df_test = combined.drop(rows_to_drop.index)\n",
        "df_test.to_csv('data/data_part2.csv', index=False)\n"
      ]
    },
    {
      "cell_type": "code",
      "execution_count": 3,
      "metadata": {
        "id": "UO7fKaiJl9BL"
      },
      "outputs": [],
      "source": [
        "df_train = pd.read_csv('sample_data/data_part1.csv')\n",
        "df_test = pd.read_csv('sample_data/data_part2.csv')"
      ]
    },
    {
      "cell_type": "code",
      "execution_count": 4,
      "metadata": {
        "colab": {
          "base_uri": "https://localhost:8080/",
          "height": 624
        },
        "id": "BCxI-nDLnJhy",
        "outputId": "517cce63-1792-423a-e30f-5153de73a9d1"
      },
      "outputs": [
        {
          "data": {
            "text/html": [
              "\n",
              "  <div id=\"df-a1139a1f-b4c9-4739-b4b3-e7df79673609\">\n",
              "    <div class=\"colab-df-container\">\n",
              "      <div>\n",
              "<style scoped>\n",
              "    .dataframe tbody tr th:only-of-type {\n",
              "        vertical-align: middle;\n",
              "    }\n",
              "\n",
              "    .dataframe tbody tr th {\n",
              "        vertical-align: top;\n",
              "    }\n",
              "\n",
              "    .dataframe thead th {\n",
              "        text-align: right;\n",
              "    }\n",
              "</style>\n",
              "<table border=\"1\" class=\"dataframe\">\n",
              "  <thead>\n",
              "    <tr style=\"text-align: right;\">\n",
              "      <th></th>\n",
              "      <th>Unnamed: 0</th>\n",
              "      <th>Hour</th>\n",
              "      <th>HR</th>\n",
              "      <th>O2Sat</th>\n",
              "      <th>Temp</th>\n",
              "      <th>SBP</th>\n",
              "      <th>MAP</th>\n",
              "      <th>DBP</th>\n",
              "      <th>Resp</th>\n",
              "      <th>EtCO2</th>\n",
              "      <th>...</th>\n",
              "      <th>Fibrinogen</th>\n",
              "      <th>Platelets</th>\n",
              "      <th>Age</th>\n",
              "      <th>Gender</th>\n",
              "      <th>Unit1</th>\n",
              "      <th>Unit2</th>\n",
              "      <th>HospAdmTime</th>\n",
              "      <th>ICULOS</th>\n",
              "      <th>SepsisLabel</th>\n",
              "      <th>Patient_ID</th>\n",
              "    </tr>\n",
              "  </thead>\n",
              "  <tbody>\n",
              "    <tr>\n",
              "      <th>0</th>\n",
              "      <td>0</td>\n",
              "      <td>0</td>\n",
              "      <td>NaN</td>\n",
              "      <td>NaN</td>\n",
              "      <td>NaN</td>\n",
              "      <td>NaN</td>\n",
              "      <td>NaN</td>\n",
              "      <td>NaN</td>\n",
              "      <td>NaN</td>\n",
              "      <td>NaN</td>\n",
              "      <td>...</td>\n",
              "      <td>NaN</td>\n",
              "      <td>NaN</td>\n",
              "      <td>68.54</td>\n",
              "      <td>0</td>\n",
              "      <td>NaN</td>\n",
              "      <td>NaN</td>\n",
              "      <td>-0.02</td>\n",
              "      <td>1</td>\n",
              "      <td>0</td>\n",
              "      <td>17072</td>\n",
              "    </tr>\n",
              "    <tr>\n",
              "      <th>1</th>\n",
              "      <td>1</td>\n",
              "      <td>1</td>\n",
              "      <td>65.0</td>\n",
              "      <td>100.0</td>\n",
              "      <td>NaN</td>\n",
              "      <td>NaN</td>\n",
              "      <td>72.0</td>\n",
              "      <td>NaN</td>\n",
              "      <td>16.5</td>\n",
              "      <td>NaN</td>\n",
              "      <td>...</td>\n",
              "      <td>NaN</td>\n",
              "      <td>NaN</td>\n",
              "      <td>68.54</td>\n",
              "      <td>0</td>\n",
              "      <td>NaN</td>\n",
              "      <td>NaN</td>\n",
              "      <td>-0.02</td>\n",
              "      <td>2</td>\n",
              "      <td>0</td>\n",
              "      <td>17072</td>\n",
              "    </tr>\n",
              "    <tr>\n",
              "      <th>2</th>\n",
              "      <td>2</td>\n",
              "      <td>2</td>\n",
              "      <td>78.0</td>\n",
              "      <td>100.0</td>\n",
              "      <td>NaN</td>\n",
              "      <td>NaN</td>\n",
              "      <td>42.5</td>\n",
              "      <td>NaN</td>\n",
              "      <td>NaN</td>\n",
              "      <td>NaN</td>\n",
              "      <td>...</td>\n",
              "      <td>NaN</td>\n",
              "      <td>NaN</td>\n",
              "      <td>68.54</td>\n",
              "      <td>0</td>\n",
              "      <td>NaN</td>\n",
              "      <td>NaN</td>\n",
              "      <td>-0.02</td>\n",
              "      <td>3</td>\n",
              "      <td>0</td>\n",
              "      <td>17072</td>\n",
              "    </tr>\n",
              "    <tr>\n",
              "      <th>3</th>\n",
              "      <td>3</td>\n",
              "      <td>3</td>\n",
              "      <td>73.0</td>\n",
              "      <td>100.0</td>\n",
              "      <td>NaN</td>\n",
              "      <td>NaN</td>\n",
              "      <td>NaN</td>\n",
              "      <td>NaN</td>\n",
              "      <td>17.0</td>\n",
              "      <td>NaN</td>\n",
              "      <td>...</td>\n",
              "      <td>NaN</td>\n",
              "      <td>NaN</td>\n",
              "      <td>68.54</td>\n",
              "      <td>0</td>\n",
              "      <td>NaN</td>\n",
              "      <td>NaN</td>\n",
              "      <td>-0.02</td>\n",
              "      <td>4</td>\n",
              "      <td>0</td>\n",
              "      <td>17072</td>\n",
              "    </tr>\n",
              "    <tr>\n",
              "      <th>4</th>\n",
              "      <td>4</td>\n",
              "      <td>4</td>\n",
              "      <td>70.0</td>\n",
              "      <td>100.0</td>\n",
              "      <td>NaN</td>\n",
              "      <td>129.0</td>\n",
              "      <td>74.0</td>\n",
              "      <td>69.0</td>\n",
              "      <td>14.0</td>\n",
              "      <td>NaN</td>\n",
              "      <td>...</td>\n",
              "      <td>NaN</td>\n",
              "      <td>330.0</td>\n",
              "      <td>68.54</td>\n",
              "      <td>0</td>\n",
              "      <td>NaN</td>\n",
              "      <td>NaN</td>\n",
              "      <td>-0.02</td>\n",
              "      <td>5</td>\n",
              "      <td>0</td>\n",
              "      <td>17072</td>\n",
              "    </tr>\n",
              "    <tr>\n",
              "      <th>5</th>\n",
              "      <td>5</td>\n",
              "      <td>5</td>\n",
              "      <td>62.0</td>\n",
              "      <td>100.0</td>\n",
              "      <td>NaN</td>\n",
              "      <td>124.0</td>\n",
              "      <td>85.0</td>\n",
              "      <td>61.0</td>\n",
              "      <td>14.0</td>\n",
              "      <td>NaN</td>\n",
              "      <td>...</td>\n",
              "      <td>NaN</td>\n",
              "      <td>NaN</td>\n",
              "      <td>68.54</td>\n",
              "      <td>0</td>\n",
              "      <td>NaN</td>\n",
              "      <td>NaN</td>\n",
              "      <td>-0.02</td>\n",
              "      <td>6</td>\n",
              "      <td>0</td>\n",
              "      <td>17072</td>\n",
              "    </tr>\n",
              "    <tr>\n",
              "      <th>6</th>\n",
              "      <td>6</td>\n",
              "      <td>6</td>\n",
              "      <td>61.0</td>\n",
              "      <td>100.0</td>\n",
              "      <td>NaN</td>\n",
              "      <td>101.0</td>\n",
              "      <td>75.0</td>\n",
              "      <td>58.0</td>\n",
              "      <td>14.0</td>\n",
              "      <td>NaN</td>\n",
              "      <td>...</td>\n",
              "      <td>NaN</td>\n",
              "      <td>NaN</td>\n",
              "      <td>68.54</td>\n",
              "      <td>0</td>\n",
              "      <td>NaN</td>\n",
              "      <td>NaN</td>\n",
              "      <td>-0.02</td>\n",
              "      <td>7</td>\n",
              "      <td>0</td>\n",
              "      <td>17072</td>\n",
              "    </tr>\n",
              "    <tr>\n",
              "      <th>7</th>\n",
              "      <td>7</td>\n",
              "      <td>7</td>\n",
              "      <td>68.0</td>\n",
              "      <td>100.0</td>\n",
              "      <td>35.78</td>\n",
              "      <td>142.0</td>\n",
              "      <td>93.5</td>\n",
              "      <td>78.0</td>\n",
              "      <td>16.0</td>\n",
              "      <td>NaN</td>\n",
              "      <td>...</td>\n",
              "      <td>NaN</td>\n",
              "      <td>NaN</td>\n",
              "      <td>68.54</td>\n",
              "      <td>0</td>\n",
              "      <td>NaN</td>\n",
              "      <td>NaN</td>\n",
              "      <td>-0.02</td>\n",
              "      <td>8</td>\n",
              "      <td>0</td>\n",
              "      <td>17072</td>\n",
              "    </tr>\n",
              "    <tr>\n",
              "      <th>8</th>\n",
              "      <td>8</td>\n",
              "      <td>8</td>\n",
              "      <td>71.0</td>\n",
              "      <td>100.0</td>\n",
              "      <td>NaN</td>\n",
              "      <td>121.0</td>\n",
              "      <td>74.0</td>\n",
              "      <td>91.0</td>\n",
              "      <td>14.0</td>\n",
              "      <td>NaN</td>\n",
              "      <td>...</td>\n",
              "      <td>NaN</td>\n",
              "      <td>NaN</td>\n",
              "      <td>68.54</td>\n",
              "      <td>0</td>\n",
              "      <td>NaN</td>\n",
              "      <td>NaN</td>\n",
              "      <td>-0.02</td>\n",
              "      <td>9</td>\n",
              "      <td>0</td>\n",
              "      <td>17072</td>\n",
              "    </tr>\n",
              "    <tr>\n",
              "      <th>9</th>\n",
              "      <td>9</td>\n",
              "      <td>9</td>\n",
              "      <td>69.0</td>\n",
              "      <td>100.0</td>\n",
              "      <td>NaN</td>\n",
              "      <td>120.0</td>\n",
              "      <td>79.0</td>\n",
              "      <td>98.0</td>\n",
              "      <td>14.0</td>\n",
              "      <td>NaN</td>\n",
              "      <td>...</td>\n",
              "      <td>NaN</td>\n",
              "      <td>NaN</td>\n",
              "      <td>68.54</td>\n",
              "      <td>0</td>\n",
              "      <td>NaN</td>\n",
              "      <td>NaN</td>\n",
              "      <td>-0.02</td>\n",
              "      <td>10</td>\n",
              "      <td>0</td>\n",
              "      <td>17072</td>\n",
              "    </tr>\n",
              "    <tr>\n",
              "      <th>10</th>\n",
              "      <td>10</td>\n",
              "      <td>10</td>\n",
              "      <td>75.0</td>\n",
              "      <td>100.0</td>\n",
              "      <td>NaN</td>\n",
              "      <td>146.0</td>\n",
              "      <td>93.0</td>\n",
              "      <td>67.0</td>\n",
              "      <td>14.0</td>\n",
              "      <td>NaN</td>\n",
              "      <td>...</td>\n",
              "      <td>NaN</td>\n",
              "      <td>NaN</td>\n",
              "      <td>68.54</td>\n",
              "      <td>0</td>\n",
              "      <td>NaN</td>\n",
              "      <td>NaN</td>\n",
              "      <td>-0.02</td>\n",
              "      <td>11</td>\n",
              "      <td>0</td>\n",
              "      <td>17072</td>\n",
              "    </tr>\n",
              "    <tr>\n",
              "      <th>11</th>\n",
              "      <td>11</td>\n",
              "      <td>11</td>\n",
              "      <td>84.0</td>\n",
              "      <td>100.0</td>\n",
              "      <td>36.39</td>\n",
              "      <td>128.0</td>\n",
              "      <td>80.0</td>\n",
              "      <td>60.0</td>\n",
              "      <td>14.0</td>\n",
              "      <td>NaN</td>\n",
              "      <td>...</td>\n",
              "      <td>NaN</td>\n",
              "      <td>NaN</td>\n",
              "      <td>68.54</td>\n",
              "      <td>0</td>\n",
              "      <td>NaN</td>\n",
              "      <td>NaN</td>\n",
              "      <td>-0.02</td>\n",
              "      <td>12</td>\n",
              "      <td>0</td>\n",
              "      <td>17072</td>\n",
              "    </tr>\n",
              "    <tr>\n",
              "      <th>12</th>\n",
              "      <td>12</td>\n",
              "      <td>12</td>\n",
              "      <td>85.0</td>\n",
              "      <td>100.0</td>\n",
              "      <td>NaN</td>\n",
              "      <td>124.0</td>\n",
              "      <td>79.0</td>\n",
              "      <td>59.0</td>\n",
              "      <td>14.0</td>\n",
              "      <td>NaN</td>\n",
              "      <td>...</td>\n",
              "      <td>NaN</td>\n",
              "      <td>NaN</td>\n",
              "      <td>68.54</td>\n",
              "      <td>0</td>\n",
              "      <td>NaN</td>\n",
              "      <td>NaN</td>\n",
              "      <td>-0.02</td>\n",
              "      <td>13</td>\n",
              "      <td>0</td>\n",
              "      <td>17072</td>\n",
              "    </tr>\n",
              "    <tr>\n",
              "      <th>13</th>\n",
              "      <td>13</td>\n",
              "      <td>13</td>\n",
              "      <td>85.0</td>\n",
              "      <td>100.0</td>\n",
              "      <td>NaN</td>\n",
              "      <td>141.0</td>\n",
              "      <td>95.0</td>\n",
              "      <td>69.0</td>\n",
              "      <td>14.0</td>\n",
              "      <td>NaN</td>\n",
              "      <td>...</td>\n",
              "      <td>NaN</td>\n",
              "      <td>303.0</td>\n",
              "      <td>68.54</td>\n",
              "      <td>0</td>\n",
              "      <td>NaN</td>\n",
              "      <td>NaN</td>\n",
              "      <td>-0.02</td>\n",
              "      <td>14</td>\n",
              "      <td>0</td>\n",
              "      <td>17072</td>\n",
              "    </tr>\n",
              "    <tr>\n",
              "      <th>14</th>\n",
              "      <td>14</td>\n",
              "      <td>14</td>\n",
              "      <td>89.0</td>\n",
              "      <td>100.0</td>\n",
              "      <td>NaN</td>\n",
              "      <td>117.0</td>\n",
              "      <td>86.0</td>\n",
              "      <td>68.0</td>\n",
              "      <td>14.0</td>\n",
              "      <td>NaN</td>\n",
              "      <td>...</td>\n",
              "      <td>NaN</td>\n",
              "      <td>NaN</td>\n",
              "      <td>68.54</td>\n",
              "      <td>0</td>\n",
              "      <td>NaN</td>\n",
              "      <td>NaN</td>\n",
              "      <td>-0.02</td>\n",
              "      <td>15</td>\n",
              "      <td>0</td>\n",
              "      <td>17072</td>\n",
              "    </tr>\n",
              "  </tbody>\n",
              "</table>\n",
              "<p>15 rows × 44 columns</p>\n",
              "</div>\n",
              "      <button class=\"colab-df-convert\" onclick=\"convertToInteractive('df-a1139a1f-b4c9-4739-b4b3-e7df79673609')\"\n",
              "              title=\"Convert this dataframe to an interactive table.\"\n",
              "              style=\"display:none;\">\n",
              "        \n",
              "  <svg xmlns=\"http://www.w3.org/2000/svg\" height=\"24px\"viewBox=\"0 0 24 24\"\n",
              "       width=\"24px\">\n",
              "    <path d=\"M0 0h24v24H0V0z\" fill=\"none\"/>\n",
              "    <path d=\"M18.56 5.44l.94 2.06.94-2.06 2.06-.94-2.06-.94-.94-2.06-.94 2.06-2.06.94zm-11 1L8.5 8.5l.94-2.06 2.06-.94-2.06-.94L8.5 2.5l-.94 2.06-2.06.94zm10 10l.94 2.06.94-2.06 2.06-.94-2.06-.94-.94-2.06-.94 2.06-2.06.94z\"/><path d=\"M17.41 7.96l-1.37-1.37c-.4-.4-.92-.59-1.43-.59-.52 0-1.04.2-1.43.59L10.3 9.45l-7.72 7.72c-.78.78-.78 2.05 0 2.83L4 21.41c.39.39.9.59 1.41.59.51 0 1.02-.2 1.41-.59l7.78-7.78 2.81-2.81c.8-.78.8-2.07 0-2.86zM5.41 20L4 18.59l7.72-7.72 1.47 1.35L5.41 20z\"/>\n",
              "  </svg>\n",
              "      </button>\n",
              "      \n",
              "  <style>\n",
              "    .colab-df-container {\n",
              "      display:flex;\n",
              "      flex-wrap:wrap;\n",
              "      gap: 12px;\n",
              "    }\n",
              "\n",
              "    .colab-df-convert {\n",
              "      background-color: #E8F0FE;\n",
              "      border: none;\n",
              "      border-radius: 50%;\n",
              "      cursor: pointer;\n",
              "      display: none;\n",
              "      fill: #1967D2;\n",
              "      height: 32px;\n",
              "      padding: 0 0 0 0;\n",
              "      width: 32px;\n",
              "    }\n",
              "\n",
              "    .colab-df-convert:hover {\n",
              "      background-color: #E2EBFA;\n",
              "      box-shadow: 0px 1px 2px rgba(60, 64, 67, 0.3), 0px 1px 3px 1px rgba(60, 64, 67, 0.15);\n",
              "      fill: #174EA6;\n",
              "    }\n",
              "\n",
              "    [theme=dark] .colab-df-convert {\n",
              "      background-color: #3B4455;\n",
              "      fill: #D2E3FC;\n",
              "    }\n",
              "\n",
              "    [theme=dark] .colab-df-convert:hover {\n",
              "      background-color: #434B5C;\n",
              "      box-shadow: 0px 1px 3px 1px rgba(0, 0, 0, 0.15);\n",
              "      filter: drop-shadow(0px 1px 2px rgba(0, 0, 0, 0.3));\n",
              "      fill: #FFFFFF;\n",
              "    }\n",
              "  </style>\n",
              "\n",
              "      <script>\n",
              "        const buttonEl =\n",
              "          document.querySelector('#df-a1139a1f-b4c9-4739-b4b3-e7df79673609 button.colab-df-convert');\n",
              "        buttonEl.style.display =\n",
              "          google.colab.kernel.accessAllowed ? 'block' : 'none';\n",
              "\n",
              "        async function convertToInteractive(key) {\n",
              "          const element = document.querySelector('#df-a1139a1f-b4c9-4739-b4b3-e7df79673609');\n",
              "          const dataTable =\n",
              "            await google.colab.kernel.invokeFunction('convertToInteractive',\n",
              "                                                     [key], {});\n",
              "          if (!dataTable) return;\n",
              "\n",
              "          const docLinkHtml = 'Like what you see? Visit the ' +\n",
              "            '<a target=\"_blank\" href=https://colab.research.google.com/notebooks/data_table.ipynb>data table notebook</a>'\n",
              "            + ' to learn more about interactive tables.';\n",
              "          element.innerHTML = '';\n",
              "          dataTable['output_type'] = 'display_data';\n",
              "          await google.colab.output.renderOutput(dataTable, element);\n",
              "          const docLink = document.createElement('div');\n",
              "          docLink.innerHTML = docLinkHtml;\n",
              "          element.appendChild(docLink);\n",
              "        }\n",
              "      </script>\n",
              "    </div>\n",
              "  </div>\n",
              "  "
            ],
            "text/plain": [
              "    Unnamed: 0  Hour    HR  O2Sat   Temp    SBP   MAP   DBP  Resp  EtCO2  ...  \\\n",
              "0            0     0   NaN    NaN    NaN    NaN   NaN   NaN   NaN    NaN  ...   \n",
              "1            1     1  65.0  100.0    NaN    NaN  72.0   NaN  16.5    NaN  ...   \n",
              "2            2     2  78.0  100.0    NaN    NaN  42.5   NaN   NaN    NaN  ...   \n",
              "3            3     3  73.0  100.0    NaN    NaN   NaN   NaN  17.0    NaN  ...   \n",
              "4            4     4  70.0  100.0    NaN  129.0  74.0  69.0  14.0    NaN  ...   \n",
              "5            5     5  62.0  100.0    NaN  124.0  85.0  61.0  14.0    NaN  ...   \n",
              "6            6     6  61.0  100.0    NaN  101.0  75.0  58.0  14.0    NaN  ...   \n",
              "7            7     7  68.0  100.0  35.78  142.0  93.5  78.0  16.0    NaN  ...   \n",
              "8            8     8  71.0  100.0    NaN  121.0  74.0  91.0  14.0    NaN  ...   \n",
              "9            9     9  69.0  100.0    NaN  120.0  79.0  98.0  14.0    NaN  ...   \n",
              "10          10    10  75.0  100.0    NaN  146.0  93.0  67.0  14.0    NaN  ...   \n",
              "11          11    11  84.0  100.0  36.39  128.0  80.0  60.0  14.0    NaN  ...   \n",
              "12          12    12  85.0  100.0    NaN  124.0  79.0  59.0  14.0    NaN  ...   \n",
              "13          13    13  85.0  100.0    NaN  141.0  95.0  69.0  14.0    NaN  ...   \n",
              "14          14    14  89.0  100.0    NaN  117.0  86.0  68.0  14.0    NaN  ...   \n",
              "\n",
              "    Fibrinogen  Platelets    Age  Gender  Unit1  Unit2  HospAdmTime  ICULOS  \\\n",
              "0          NaN        NaN  68.54       0    NaN    NaN        -0.02       1   \n",
              "1          NaN        NaN  68.54       0    NaN    NaN        -0.02       2   \n",
              "2          NaN        NaN  68.54       0    NaN    NaN        -0.02       3   \n",
              "3          NaN        NaN  68.54       0    NaN    NaN        -0.02       4   \n",
              "4          NaN      330.0  68.54       0    NaN    NaN        -0.02       5   \n",
              "5          NaN        NaN  68.54       0    NaN    NaN        -0.02       6   \n",
              "6          NaN        NaN  68.54       0    NaN    NaN        -0.02       7   \n",
              "7          NaN        NaN  68.54       0    NaN    NaN        -0.02       8   \n",
              "8          NaN        NaN  68.54       0    NaN    NaN        -0.02       9   \n",
              "9          NaN        NaN  68.54       0    NaN    NaN        -0.02      10   \n",
              "10         NaN        NaN  68.54       0    NaN    NaN        -0.02      11   \n",
              "11         NaN        NaN  68.54       0    NaN    NaN        -0.02      12   \n",
              "12         NaN        NaN  68.54       0    NaN    NaN        -0.02      13   \n",
              "13         NaN      303.0  68.54       0    NaN    NaN        -0.02      14   \n",
              "14         NaN        NaN  68.54       0    NaN    NaN        -0.02      15   \n",
              "\n",
              "    SepsisLabel  Patient_ID  \n",
              "0             0       17072  \n",
              "1             0       17072  \n",
              "2             0       17072  \n",
              "3             0       17072  \n",
              "4             0       17072  \n",
              "5             0       17072  \n",
              "6             0       17072  \n",
              "7             0       17072  \n",
              "8             0       17072  \n",
              "9             0       17072  \n",
              "10            0       17072  \n",
              "11            0       17072  \n",
              "12            0       17072  \n",
              "13            0       17072  \n",
              "14            0       17072  \n",
              "\n",
              "[15 rows x 44 columns]"
            ]
          },
          "execution_count": 4,
          "metadata": {},
          "output_type": "execute_result"
        }
      ],
      "source": [
        "df_train.head(15)"
      ]
    },
    {
      "cell_type": "code",
      "execution_count": 5,
      "metadata": {
        "colab": {
          "base_uri": "https://localhost:8080/"
        },
        "id": "2yEi4OkGnWuv",
        "outputId": "504d2ca6-334e-46cf-c331-4aabfd76c297"
      },
      "outputs": [
        {
          "data": {
            "text/plain": [
              "Index(['Unnamed: 0', 'Hour', 'HR', 'O2Sat', 'Temp', 'SBP', 'MAP', 'DBP',\n",
              "       'Resp', 'EtCO2', 'BaseExcess', 'HCO3', 'FiO2', 'pH', 'PaCO2', 'SaO2',\n",
              "       'AST', 'BUN', 'Alkalinephos', 'Calcium', 'Chloride', 'Creatinine',\n",
              "       'Bilirubin_direct', 'Glucose', 'Lactate', 'Magnesium', 'Phosphate',\n",
              "       'Potassium', 'Bilirubin_total', 'TroponinI', 'Hct', 'Hgb', 'PTT', 'WBC',\n",
              "       'Fibrinogen', 'Platelets', 'Age', 'Gender', 'Unit1', 'Unit2',\n",
              "       'HospAdmTime', 'ICULOS', 'SepsisLabel', 'Patient_ID'],\n",
              "      dtype='object')"
            ]
          },
          "execution_count": 5,
          "metadata": {},
          "output_type": "execute_result"
        }
      ],
      "source": [
        "df_train.columns"
      ]
    },
    {
      "cell_type": "code",
      "execution_count": 6,
      "metadata": {
        "colab": {
          "base_uri": "https://localhost:8080/"
        },
        "id": "QYw1BHZCnYzm",
        "outputId": "d455bfce-babd-46db-b896-b65c0adb0586"
      },
      "outputs": [
        {
          "data": {
            "text/plain": [
              "20000"
            ]
          },
          "execution_count": 6,
          "metadata": {},
          "output_type": "execute_result"
        }
      ],
      "source": [
        "patients = list(df_test['Patient_ID'].unique())\n",
        "len(patients)"
      ]
    },
    {
      "cell_type": "code",
      "execution_count": 7,
      "metadata": {
        "colab": {
          "base_uri": "https://localhost:8080/"
        },
        "id": "PrlGKaiWognx",
        "outputId": "5a250aae-1126-4afe-9463-c22c0b967d9a"
      },
      "outputs": [
        {
          "data": {
            "text/plain": [
              "EtCO2               100.000000\n",
              "TroponinI            99.877881\n",
              "Bilirubin_direct     99.850420\n",
              "Fibrinogen           99.236917\n",
              "Bilirubin_total      98.773372\n",
              "Alkalinephos         98.540650\n",
              "AST                  98.504205\n",
              "Lactate              96.565112\n",
              "PTT                  95.152459\n",
              "SaO2                 95.044387\n",
              "Calcium              95.024392\n",
              "Phosphate            94.951247\n",
              "Platelets            93.482913\n",
              "Creatinine           93.357884\n",
              "WBC                  92.489639\n",
              "Magnesium            92.219712\n",
              "HCO3                 91.949406\n",
              "BUN                  91.840702\n",
              "Chloride             91.676063\n",
              "PaCO2                91.231753\n",
              "Hgb                  91.164303\n",
              "BaseExcess           89.574863\n",
              "Potassium            89.137640\n",
              "pH                   88.532868\n",
              "Hct                  88.223711\n",
              "Glucose              87.768392\n",
              "FiO2                 85.807027\n",
              "Temp                 66.224255\n",
              "Unit1                48.868346\n",
              "Unit2                48.868346\n",
              "DBP                  48.125763\n",
              "SBP                  15.211177\n",
              "O2Sat                12.032042\n",
              "MAP                  10.232405\n",
              "Resp                  9.776833\n",
              "HR                    7.743336\n",
              "HospAdmTime           0.001012\n",
              "SepsisLabel           0.000000\n",
              "ICULOS                0.000000\n",
              "Unnamed: 0            0.000000\n",
              "Gender                0.000000\n",
              "Age                   0.000000\n",
              "Hour                  0.000000\n",
              "Patient_ID            0.000000\n",
              "dtype: float64"
            ]
          },
          "execution_count": 7,
          "metadata": {},
          "output_type": "execute_result"
        }
      ],
      "source": [
        "null_values = df_train.isnull().mean()*100\n",
        "null_values = null_values.sort_values(ascending=False)\n",
        "null_values"
      ]
    },
    {
      "cell_type": "code",
      "execution_count": 8,
      "metadata": {
        "colab": {
          "base_uri": "https://localhost:8080/"
        },
        "id": "1cNvFnL_otwp",
        "outputId": "e87f4ca6-0527-4079-d4fe-a1812c60bd27"
      },
      "outputs": [
        {
          "data": {
            "text/plain": [
              "Index(['Hour', 'HR', 'O2Sat', 'Temp', 'MAP', 'Resp', 'FiO2', 'SaO2', 'AST',\n",
              "       'BUN', 'Chloride', 'Creatinine', 'Bilirubin_direct', 'Glucose',\n",
              "       'Lactate', 'Bilirubin_total', 'TroponinI', 'Hct', 'Hgb', 'WBC',\n",
              "       'Platelets', 'Age', 'Gender', 'HospAdmTime', 'ICULOS', 'SepsisLabel',\n",
              "       'Patient_ID', 'Unit'],\n",
              "      dtype='object')"
            ]
          },
          "execution_count": 8,
          "metadata": {},
          "output_type": "execute_result"
        }
      ],
      "source": [
        "columns_drop={'Unnamed: 0','SBP','DBP','EtCO2','BaseExcess', 'HCO3','pH','PaCO2','Alkalinephos', 'Calcium','Magnesium', \n",
        "'Phosphate','Potassium','PTT','Fibrinogen','Unit1','Unit2'}\n",
        "df_train = df_train.assign(Unit=df_train['Unit1'] + df_train['Unit2'])\n",
        "df_train_mod = df_train.drop(columns=columns_drop)\n",
        "df_train_mod.columns"
      ]
    },
    {
      "cell_type": "code",
      "execution_count": 9,
      "metadata": {
        "id": "p2J-HSybo3b2"
      },
      "outputs": [],
      "source": [
        "df_train_impute = df_train_mod.copy()\n",
        "columns_impute = list(df_train_impute.columns)"
      ]
    },
    {
      "cell_type": "code",
      "execution_count": 10,
      "metadata": {
        "colab": {
          "base_uri": "https://localhost:8080/"
        },
        "id": "gTha7aDIo6cd",
        "outputId": "a785a2fc-1a8e-4976-e075-8f5dd85fc58b"
      },
      "outputs": [
        {
          "name": "stderr",
          "output_type": "stream",
          "text": [
            "<ipython-input-10-354395450214>:2: FutureWarning: Not prepending group keys to the result index of transform-like apply. In the future, the group keys will be included in the index, regardless of whether the applied function returns a like-indexed object.\n",
            "To preserve the previous behavior, use\n",
            "\n",
            "\t>>> .groupby(..., group_keys=False)\n",
            "\n",
            "To adopt the future behavior and silence this warning, use \n",
            "\n",
            "\t>>> .groupby(..., group_keys=True)\n",
            "  df_train_impute = grouped_by_patient.apply(lambda x: x.bfill().ffill())\n"
          ]
        }
      ],
      "source": [
        "grouped_by_patient = df_train_impute.groupby('Patient_ID')\n",
        "df_train_impute = grouped_by_patient.apply(lambda x: x.bfill().ffill())"
      ]
    },
    {
      "cell_type": "code",
      "execution_count": 11,
      "metadata": {
        "colab": {
          "base_uri": "https://localhost:8080/",
          "height": 297
        },
        "id": "Q9ydyQaDo_w3",
        "outputId": "050966df-0b26-4a08-9575-3313c011223d"
      },
      "outputs": [
        {
          "data": {
            "text/html": [
              "\n",
              "  <div id=\"df-7ee42238-f5e6-412a-894f-365a97f4800d\">\n",
              "    <div class=\"colab-df-container\">\n",
              "      <div>\n",
              "<style scoped>\n",
              "    .dataframe tbody tr th:only-of-type {\n",
              "        vertical-align: middle;\n",
              "    }\n",
              "\n",
              "    .dataframe tbody tr th {\n",
              "        vertical-align: top;\n",
              "    }\n",
              "\n",
              "    .dataframe thead th {\n",
              "        text-align: right;\n",
              "    }\n",
              "</style>\n",
              "<table border=\"1\" class=\"dataframe\">\n",
              "  <thead>\n",
              "    <tr style=\"text-align: right;\">\n",
              "      <th></th>\n",
              "      <th>Hour</th>\n",
              "      <th>HR</th>\n",
              "      <th>O2Sat</th>\n",
              "      <th>Temp</th>\n",
              "      <th>MAP</th>\n",
              "      <th>Resp</th>\n",
              "      <th>FiO2</th>\n",
              "      <th>SaO2</th>\n",
              "      <th>AST</th>\n",
              "      <th>BUN</th>\n",
              "      <th>...</th>\n",
              "      <th>Hgb</th>\n",
              "      <th>WBC</th>\n",
              "      <th>Platelets</th>\n",
              "      <th>Age</th>\n",
              "      <th>Gender</th>\n",
              "      <th>HospAdmTime</th>\n",
              "      <th>ICULOS</th>\n",
              "      <th>SepsisLabel</th>\n",
              "      <th>Patient_ID</th>\n",
              "      <th>Unit</th>\n",
              "    </tr>\n",
              "  </thead>\n",
              "  <tbody>\n",
              "    <tr>\n",
              "      <th>0</th>\n",
              "      <td>0</td>\n",
              "      <td>65.0</td>\n",
              "      <td>100.0</td>\n",
              "      <td>35.78</td>\n",
              "      <td>72.0</td>\n",
              "      <td>16.5</td>\n",
              "      <td>0.4</td>\n",
              "      <td>NaN</td>\n",
              "      <td>29.0</td>\n",
              "      <td>23.0</td>\n",
              "      <td>...</td>\n",
              "      <td>9.5</td>\n",
              "      <td>11.3</td>\n",
              "      <td>330.0</td>\n",
              "      <td>68.54</td>\n",
              "      <td>0</td>\n",
              "      <td>-0.02</td>\n",
              "      <td>1</td>\n",
              "      <td>0</td>\n",
              "      <td>17072</td>\n",
              "      <td>NaN</td>\n",
              "    </tr>\n",
              "    <tr>\n",
              "      <th>1</th>\n",
              "      <td>1</td>\n",
              "      <td>65.0</td>\n",
              "      <td>100.0</td>\n",
              "      <td>35.78</td>\n",
              "      <td>72.0</td>\n",
              "      <td>16.5</td>\n",
              "      <td>0.4</td>\n",
              "      <td>NaN</td>\n",
              "      <td>29.0</td>\n",
              "      <td>23.0</td>\n",
              "      <td>...</td>\n",
              "      <td>9.5</td>\n",
              "      <td>11.3</td>\n",
              "      <td>330.0</td>\n",
              "      <td>68.54</td>\n",
              "      <td>0</td>\n",
              "      <td>-0.02</td>\n",
              "      <td>2</td>\n",
              "      <td>0</td>\n",
              "      <td>17072</td>\n",
              "      <td>NaN</td>\n",
              "    </tr>\n",
              "    <tr>\n",
              "      <th>2</th>\n",
              "      <td>2</td>\n",
              "      <td>78.0</td>\n",
              "      <td>100.0</td>\n",
              "      <td>35.78</td>\n",
              "      <td>42.5</td>\n",
              "      <td>17.0</td>\n",
              "      <td>0.4</td>\n",
              "      <td>NaN</td>\n",
              "      <td>29.0</td>\n",
              "      <td>23.0</td>\n",
              "      <td>...</td>\n",
              "      <td>9.5</td>\n",
              "      <td>11.3</td>\n",
              "      <td>330.0</td>\n",
              "      <td>68.54</td>\n",
              "      <td>0</td>\n",
              "      <td>-0.02</td>\n",
              "      <td>3</td>\n",
              "      <td>0</td>\n",
              "      <td>17072</td>\n",
              "      <td>NaN</td>\n",
              "    </tr>\n",
              "    <tr>\n",
              "      <th>3</th>\n",
              "      <td>3</td>\n",
              "      <td>73.0</td>\n",
              "      <td>100.0</td>\n",
              "      <td>35.78</td>\n",
              "      <td>74.0</td>\n",
              "      <td>17.0</td>\n",
              "      <td>0.4</td>\n",
              "      <td>NaN</td>\n",
              "      <td>29.0</td>\n",
              "      <td>23.0</td>\n",
              "      <td>...</td>\n",
              "      <td>9.5</td>\n",
              "      <td>11.3</td>\n",
              "      <td>330.0</td>\n",
              "      <td>68.54</td>\n",
              "      <td>0</td>\n",
              "      <td>-0.02</td>\n",
              "      <td>4</td>\n",
              "      <td>0</td>\n",
              "      <td>17072</td>\n",
              "      <td>NaN</td>\n",
              "    </tr>\n",
              "    <tr>\n",
              "      <th>4</th>\n",
              "      <td>4</td>\n",
              "      <td>70.0</td>\n",
              "      <td>100.0</td>\n",
              "      <td>35.78</td>\n",
              "      <td>74.0</td>\n",
              "      <td>14.0</td>\n",
              "      <td>0.4</td>\n",
              "      <td>NaN</td>\n",
              "      <td>29.0</td>\n",
              "      <td>23.0</td>\n",
              "      <td>...</td>\n",
              "      <td>9.5</td>\n",
              "      <td>11.3</td>\n",
              "      <td>330.0</td>\n",
              "      <td>68.54</td>\n",
              "      <td>0</td>\n",
              "      <td>-0.02</td>\n",
              "      <td>5</td>\n",
              "      <td>0</td>\n",
              "      <td>17072</td>\n",
              "      <td>NaN</td>\n",
              "    </tr>\n",
              "  </tbody>\n",
              "</table>\n",
              "<p>5 rows × 28 columns</p>\n",
              "</div>\n",
              "      <button class=\"colab-df-convert\" onclick=\"convertToInteractive('df-7ee42238-f5e6-412a-894f-365a97f4800d')\"\n",
              "              title=\"Convert this dataframe to an interactive table.\"\n",
              "              style=\"display:none;\">\n",
              "        \n",
              "  <svg xmlns=\"http://www.w3.org/2000/svg\" height=\"24px\"viewBox=\"0 0 24 24\"\n",
              "       width=\"24px\">\n",
              "    <path d=\"M0 0h24v24H0V0z\" fill=\"none\"/>\n",
              "    <path d=\"M18.56 5.44l.94 2.06.94-2.06 2.06-.94-2.06-.94-.94-2.06-.94 2.06-2.06.94zm-11 1L8.5 8.5l.94-2.06 2.06-.94-2.06-.94L8.5 2.5l-.94 2.06-2.06.94zm10 10l.94 2.06.94-2.06 2.06-.94-2.06-.94-.94-2.06-.94 2.06-2.06.94z\"/><path d=\"M17.41 7.96l-1.37-1.37c-.4-.4-.92-.59-1.43-.59-.52 0-1.04.2-1.43.59L10.3 9.45l-7.72 7.72c-.78.78-.78 2.05 0 2.83L4 21.41c.39.39.9.59 1.41.59.51 0 1.02-.2 1.41-.59l7.78-7.78 2.81-2.81c.8-.78.8-2.07 0-2.86zM5.41 20L4 18.59l7.72-7.72 1.47 1.35L5.41 20z\"/>\n",
              "  </svg>\n",
              "      </button>\n",
              "      \n",
              "  <style>\n",
              "    .colab-df-container {\n",
              "      display:flex;\n",
              "      flex-wrap:wrap;\n",
              "      gap: 12px;\n",
              "    }\n",
              "\n",
              "    .colab-df-convert {\n",
              "      background-color: #E8F0FE;\n",
              "      border: none;\n",
              "      border-radius: 50%;\n",
              "      cursor: pointer;\n",
              "      display: none;\n",
              "      fill: #1967D2;\n",
              "      height: 32px;\n",
              "      padding: 0 0 0 0;\n",
              "      width: 32px;\n",
              "    }\n",
              "\n",
              "    .colab-df-convert:hover {\n",
              "      background-color: #E2EBFA;\n",
              "      box-shadow: 0px 1px 2px rgba(60, 64, 67, 0.3), 0px 1px 3px 1px rgba(60, 64, 67, 0.15);\n",
              "      fill: #174EA6;\n",
              "    }\n",
              "\n",
              "    [theme=dark] .colab-df-convert {\n",
              "      background-color: #3B4455;\n",
              "      fill: #D2E3FC;\n",
              "    }\n",
              "\n",
              "    [theme=dark] .colab-df-convert:hover {\n",
              "      background-color: #434B5C;\n",
              "      box-shadow: 0px 1px 3px 1px rgba(0, 0, 0, 0.15);\n",
              "      filter: drop-shadow(0px 1px 2px rgba(0, 0, 0, 0.3));\n",
              "      fill: #FFFFFF;\n",
              "    }\n",
              "  </style>\n",
              "\n",
              "      <script>\n",
              "        const buttonEl =\n",
              "          document.querySelector('#df-7ee42238-f5e6-412a-894f-365a97f4800d button.colab-df-convert');\n",
              "        buttonEl.style.display =\n",
              "          google.colab.kernel.accessAllowed ? 'block' : 'none';\n",
              "\n",
              "        async function convertToInteractive(key) {\n",
              "          const element = document.querySelector('#df-7ee42238-f5e6-412a-894f-365a97f4800d');\n",
              "          const dataTable =\n",
              "            await google.colab.kernel.invokeFunction('convertToInteractive',\n",
              "                                                     [key], {});\n",
              "          if (!dataTable) return;\n",
              "\n",
              "          const docLinkHtml = 'Like what you see? Visit the ' +\n",
              "            '<a target=\"_blank\" href=https://colab.research.google.com/notebooks/data_table.ipynb>data table notebook</a>'\n",
              "            + ' to learn more about interactive tables.';\n",
              "          element.innerHTML = '';\n",
              "          dataTable['output_type'] = 'display_data';\n",
              "          await google.colab.output.renderOutput(dataTable, element);\n",
              "          const docLink = document.createElement('div');\n",
              "          docLink.innerHTML = docLinkHtml;\n",
              "          element.appendChild(docLink);\n",
              "        }\n",
              "      </script>\n",
              "    </div>\n",
              "  </div>\n",
              "  "
            ],
            "text/plain": [
              "   Hour    HR  O2Sat   Temp   MAP  Resp  FiO2  SaO2   AST   BUN  ...  Hgb  \\\n",
              "0     0  65.0  100.0  35.78  72.0  16.5   0.4   NaN  29.0  23.0  ...  9.5   \n",
              "1     1  65.0  100.0  35.78  72.0  16.5   0.4   NaN  29.0  23.0  ...  9.5   \n",
              "2     2  78.0  100.0  35.78  42.5  17.0   0.4   NaN  29.0  23.0  ...  9.5   \n",
              "3     3  73.0  100.0  35.78  74.0  17.0   0.4   NaN  29.0  23.0  ...  9.5   \n",
              "4     4  70.0  100.0  35.78  74.0  14.0   0.4   NaN  29.0  23.0  ...  9.5   \n",
              "\n",
              "    WBC  Platelets    Age  Gender  HospAdmTime  ICULOS  SepsisLabel  \\\n",
              "0  11.3      330.0  68.54       0        -0.02       1            0   \n",
              "1  11.3      330.0  68.54       0        -0.02       2            0   \n",
              "2  11.3      330.0  68.54       0        -0.02       3            0   \n",
              "3  11.3      330.0  68.54       0        -0.02       4            0   \n",
              "4  11.3      330.0  68.54       0        -0.02       5            0   \n",
              "\n",
              "   Patient_ID  Unit  \n",
              "0       17072   NaN  \n",
              "1       17072   NaN  \n",
              "2       17072   NaN  \n",
              "3       17072   NaN  \n",
              "4       17072   NaN  \n",
              "\n",
              "[5 rows x 28 columns]"
            ]
          },
          "execution_count": 11,
          "metadata": {},
          "output_type": "execute_result"
        }
      ],
      "source": [
        "df_train_impute.head()"
      ]
    },
    {
      "cell_type": "code",
      "execution_count": 12,
      "metadata": {
        "colab": {
          "base_uri": "https://localhost:8080/"
        },
        "id": "A4p99ymVpEW7",
        "outputId": "99a2061a-568b-485b-f91e-7c81e8f6a75f"
      },
      "outputs": [
        {
          "data": {
            "text/plain": [
              "TroponinI           97.357934\n",
              "Bilirubin_direct    96.256841\n",
              "Bilirubin_total     66.949754\n",
              "AST                 66.435590\n",
              "SaO2                57.282891\n",
              "Lactate             55.997418\n",
              "Unit                48.868346\n",
              "FiO2                36.195592\n",
              "WBC                  1.511994\n",
              "Platelets            1.394810\n",
              "Chloride             1.310656\n",
              "Hgb                  1.158672\n",
              "Creatinine           1.029467\n",
              "Glucose              0.940630\n",
              "BUN                  0.937719\n",
              "Temp                 0.853692\n",
              "Hct                  0.779028\n",
              "Resp                 0.088710\n",
              "O2Sat                0.026702\n",
              "MAP                  0.003037\n",
              "HR                   0.001139\n",
              "HospAdmTime          0.001012\n",
              "Age                  0.000000\n",
              "Gender               0.000000\n",
              "ICULOS               0.000000\n",
              "SepsisLabel          0.000000\n",
              "Patient_ID           0.000000\n",
              "Hour                 0.000000\n",
              "dtype: float64"
            ]
          },
          "execution_count": 12,
          "metadata": {},
          "output_type": "execute_result"
        }
      ],
      "source": [
        "null_values = df_train_impute.isnull().mean()*100\n",
        "null_values = null_values.sort_values(ascending=False)\n",
        "null_values"
      ]
    },
    {
      "cell_type": "code",
      "execution_count": 13,
      "metadata": {
        "colab": {
          "base_uri": "https://localhost:8080/"
        },
        "id": "IvNvB_mDpKre",
        "outputId": "d36505ff-66b2-4ac7-f2ef-4e7f130db484"
      },
      "outputs": [
        {
          "data": {
            "text/plain": [
              "(790215, 19)"
            ]
          },
          "execution_count": 13,
          "metadata": {},
          "output_type": "execute_result"
        }
      ],
      "source": [
        "null_col = ['TroponinI', 'Bilirubin_direct', 'AST', 'Bilirubin_total', 'Lactate', 'SaO2', 'FiO2',\n",
        "            'Unit', 'Patient_ID']\n",
        "df_train_impute = df_train_impute.drop(columns=null_col)\n",
        "df_train_impute.columns\n",
        "df_train_impute.shape"
      ]
    },
    {
      "cell_type": "code",
      "execution_count": 14,
      "metadata": {
        "id": "C7uhTurFpNLK"
      },
      "outputs": [],
      "source": [
        "one_hot = pd.get_dummies(df_train_impute['Gender'])\n",
        "df_train_impute = df_train_impute.join(one_hot)\n",
        "df_train_impute = df_train_impute.drop('Gender', axis=1)"
      ]
    },
    {
      "cell_type": "code",
      "execution_count": 15,
      "metadata": {
        "id": "YkgL3A3npcpJ"
      },
      "outputs": [],
      "source": [
        "def try_gaussian(df, col):\n",
        "  #print('actual plot')\n",
        "  #diagnostic_plots(df,col)\n",
        "  # this applies yeojohnson plot\n",
        "  df['col_yj'], param = stats.yeojohnson(df[col]) \n",
        "  #print('yeojohnson plot')\n",
        " #diagnostic_plots(df, 'col_yj')\n",
        "  # this applies exponential transformation\n",
        "  df['col_1.5'] = df[col]**(1/1.5)\n",
        "  #print('**1/1.5 plot') \n",
        " # diagnostic_plots(df, 'col_1.5')\n",
        "  df['col_.5'] = df[col]**(.5)\n",
        "  #print('**.5 plot') \n",
        "  # this applies inverse transformation\n",
        "  #diagnostic_plots(df, 'col_.5')\n",
        "  df['col_rec'] = 1 / (df[col]+0.00001) \n",
        "  #diagnostic_plots(df, 'col_rec')\n",
        "  # this applies logarithmic trasnformation\n",
        "  df['col_log'] = np.log(df[col]+1)\n",
        "  #diagnostic_plots(df, 'col_log') "
      ]
    },
    {
      "cell_type": "code",
      "execution_count": 16,
      "metadata": {
        "id": "ZVi_L-MKplGL"
      },
      "outputs": [],
      "source": [
        "lst = ['O2Sat', 'Temp', 'MAP', 'BUN', 'Creatinine', 'Glucose', 'WBC', 'Platelets' ]\n",
        "for i in lst:\n",
        "  #print(i)\n",
        "  try_gaussian(df_train_impute, i)"
      ]
    },
    {
      "cell_type": "code",
      "execution_count": 17,
      "metadata": {
        "id": "LhBC1zbUp2pu"
      },
      "outputs": [],
      "source": [
        "df_train_impute = df_train_impute.drop(columns = ['col_yj','col_1.5','col_.5','col_rec','col_log'])"
      ]
    },
    {
      "cell_type": "code",
      "execution_count": 18,
      "metadata": {
        "id": "dudIcOvup5c8"
      },
      "outputs": [],
      "source": [
        "columns_normalized = ['MAP', 'BUN', 'Creatinine', 'Glucose', 'WBC', 'Platelets' ]\n",
        "for i in columns_normalized:\n",
        "  df_train_impute[i] = np.log(df_train_impute[i]+1)"
      ]
    },
    {
      "cell_type": "code",
      "execution_count": 19,
      "metadata": {
        "colab": {
          "base_uri": "https://localhost:8080/",
          "height": 268
        },
        "id": "vXrhqyXOp7yG",
        "outputId": "67954fcb-1ee9-4edc-ebd6-41bfa880d9a2"
      },
      "outputs": [
        {
          "data": {
            "text/html": [
              "\n",
              "  <div id=\"df-417ce458-df74-4d8e-88ff-df98565bcd80\">\n",
              "    <div class=\"colab-df-container\">\n",
              "      <div>\n",
              "<style scoped>\n",
              "    .dataframe tbody tr th:only-of-type {\n",
              "        vertical-align: middle;\n",
              "    }\n",
              "\n",
              "    .dataframe tbody tr th {\n",
              "        vertical-align: top;\n",
              "    }\n",
              "\n",
              "    .dataframe thead th {\n",
              "        text-align: right;\n",
              "    }\n",
              "</style>\n",
              "<table border=\"1\" class=\"dataframe\">\n",
              "  <thead>\n",
              "    <tr style=\"text-align: right;\">\n",
              "      <th></th>\n",
              "      <th>Hour</th>\n",
              "      <th>HR</th>\n",
              "      <th>O2Sat</th>\n",
              "      <th>Temp</th>\n",
              "      <th>MAP</th>\n",
              "      <th>Resp</th>\n",
              "      <th>BUN</th>\n",
              "      <th>Chloride</th>\n",
              "      <th>Creatinine</th>\n",
              "      <th>Glucose</th>\n",
              "      <th>Hct</th>\n",
              "      <th>Hgb</th>\n",
              "      <th>WBC</th>\n",
              "      <th>Platelets</th>\n",
              "      <th>Age</th>\n",
              "      <th>HospAdmTime</th>\n",
              "      <th>ICULOS</th>\n",
              "      <th>SepsisLabel</th>\n",
              "      <th>0</th>\n",
              "      <th>1</th>\n",
              "    </tr>\n",
              "  </thead>\n",
              "  <tbody>\n",
              "    <tr>\n",
              "      <th>0</th>\n",
              "      <td>0</td>\n",
              "      <td>-1.170030</td>\n",
              "      <td>0.865243</td>\n",
              "      <td>-1.548869</td>\n",
              "      <td>-0.397650</td>\n",
              "      <td>-0.419685</td>\n",
              "      <td>0.322965</td>\n",
              "      <td>-0.226541</td>\n",
              "      <td>-0.410796</td>\n",
              "      <td>0.854631</td>\n",
              "      <td>-0.311111</td>\n",
              "      <td>-0.652538</td>\n",
              "      <td>0.149678</td>\n",
              "      <td>1.140763</td>\n",
              "      <td>68.54</td>\n",
              "      <td>-0.02</td>\n",
              "      <td>1</td>\n",
              "      <td>0</td>\n",
              "      <td>1</td>\n",
              "      <td>0</td>\n",
              "    </tr>\n",
              "    <tr>\n",
              "      <th>1</th>\n",
              "      <td>1</td>\n",
              "      <td>-1.170030</td>\n",
              "      <td>0.865243</td>\n",
              "      <td>-1.548869</td>\n",
              "      <td>-0.397650</td>\n",
              "      <td>-0.419685</td>\n",
              "      <td>0.322965</td>\n",
              "      <td>-0.226541</td>\n",
              "      <td>-0.410796</td>\n",
              "      <td>0.854631</td>\n",
              "      <td>-0.311111</td>\n",
              "      <td>-0.652538</td>\n",
              "      <td>0.149678</td>\n",
              "      <td>1.140763</td>\n",
              "      <td>68.54</td>\n",
              "      <td>-0.02</td>\n",
              "      <td>2</td>\n",
              "      <td>0</td>\n",
              "      <td>1</td>\n",
              "      <td>0</td>\n",
              "    </tr>\n",
              "    <tr>\n",
              "      <th>2</th>\n",
              "      <td>2</td>\n",
              "      <td>-0.407913</td>\n",
              "      <td>0.865243</td>\n",
              "      <td>-1.548869</td>\n",
              "      <td>-3.187955</td>\n",
              "      <td>-0.326969</td>\n",
              "      <td>0.322965</td>\n",
              "      <td>-0.226541</td>\n",
              "      <td>-0.410796</td>\n",
              "      <td>0.854631</td>\n",
              "      <td>-0.311111</td>\n",
              "      <td>-0.652538</td>\n",
              "      <td>0.149678</td>\n",
              "      <td>1.140763</td>\n",
              "      <td>68.54</td>\n",
              "      <td>-0.02</td>\n",
              "      <td>3</td>\n",
              "      <td>0</td>\n",
              "      <td>1</td>\n",
              "      <td>0</td>\n",
              "    </tr>\n",
              "    <tr>\n",
              "      <th>3</th>\n",
              "      <td>3</td>\n",
              "      <td>-0.701035</td>\n",
              "      <td>0.865243</td>\n",
              "      <td>-1.548869</td>\n",
              "      <td>-0.251970</td>\n",
              "      <td>-0.326969</td>\n",
              "      <td>0.322965</td>\n",
              "      <td>-0.226541</td>\n",
              "      <td>-0.410796</td>\n",
              "      <td>0.854631</td>\n",
              "      <td>-0.311111</td>\n",
              "      <td>-0.652538</td>\n",
              "      <td>0.149678</td>\n",
              "      <td>1.140763</td>\n",
              "      <td>68.54</td>\n",
              "      <td>-0.02</td>\n",
              "      <td>4</td>\n",
              "      <td>0</td>\n",
              "      <td>1</td>\n",
              "      <td>0</td>\n",
              "    </tr>\n",
              "    <tr>\n",
              "      <th>4</th>\n",
              "      <td>4</td>\n",
              "      <td>-0.876908</td>\n",
              "      <td>0.865243</td>\n",
              "      <td>-1.548869</td>\n",
              "      <td>-0.251970</td>\n",
              "      <td>-0.883265</td>\n",
              "      <td>0.322965</td>\n",
              "      <td>-0.226541</td>\n",
              "      <td>-0.410796</td>\n",
              "      <td>0.854631</td>\n",
              "      <td>-0.311111</td>\n",
              "      <td>-0.652538</td>\n",
              "      <td>0.149678</td>\n",
              "      <td>1.140763</td>\n",
              "      <td>68.54</td>\n",
              "      <td>-0.02</td>\n",
              "      <td>5</td>\n",
              "      <td>0</td>\n",
              "      <td>1</td>\n",
              "      <td>0</td>\n",
              "    </tr>\n",
              "  </tbody>\n",
              "</table>\n",
              "</div>\n",
              "      <button class=\"colab-df-convert\" onclick=\"convertToInteractive('df-417ce458-df74-4d8e-88ff-df98565bcd80')\"\n",
              "              title=\"Convert this dataframe to an interactive table.\"\n",
              "              style=\"display:none;\">\n",
              "        \n",
              "  <svg xmlns=\"http://www.w3.org/2000/svg\" height=\"24px\"viewBox=\"0 0 24 24\"\n",
              "       width=\"24px\">\n",
              "    <path d=\"M0 0h24v24H0V0z\" fill=\"none\"/>\n",
              "    <path d=\"M18.56 5.44l.94 2.06.94-2.06 2.06-.94-2.06-.94-.94-2.06-.94 2.06-2.06.94zm-11 1L8.5 8.5l.94-2.06 2.06-.94-2.06-.94L8.5 2.5l-.94 2.06-2.06.94zm10 10l.94 2.06.94-2.06 2.06-.94-2.06-.94-.94-2.06-.94 2.06-2.06.94z\"/><path d=\"M17.41 7.96l-1.37-1.37c-.4-.4-.92-.59-1.43-.59-.52 0-1.04.2-1.43.59L10.3 9.45l-7.72 7.72c-.78.78-.78 2.05 0 2.83L4 21.41c.39.39.9.59 1.41.59.51 0 1.02-.2 1.41-.59l7.78-7.78 2.81-2.81c.8-.78.8-2.07 0-2.86zM5.41 20L4 18.59l7.72-7.72 1.47 1.35L5.41 20z\"/>\n",
              "  </svg>\n",
              "      </button>\n",
              "      \n",
              "  <style>\n",
              "    .colab-df-container {\n",
              "      display:flex;\n",
              "      flex-wrap:wrap;\n",
              "      gap: 12px;\n",
              "    }\n",
              "\n",
              "    .colab-df-convert {\n",
              "      background-color: #E8F0FE;\n",
              "      border: none;\n",
              "      border-radius: 50%;\n",
              "      cursor: pointer;\n",
              "      display: none;\n",
              "      fill: #1967D2;\n",
              "      height: 32px;\n",
              "      padding: 0 0 0 0;\n",
              "      width: 32px;\n",
              "    }\n",
              "\n",
              "    .colab-df-convert:hover {\n",
              "      background-color: #E2EBFA;\n",
              "      box-shadow: 0px 1px 2px rgba(60, 64, 67, 0.3), 0px 1px 3px 1px rgba(60, 64, 67, 0.15);\n",
              "      fill: #174EA6;\n",
              "    }\n",
              "\n",
              "    [theme=dark] .colab-df-convert {\n",
              "      background-color: #3B4455;\n",
              "      fill: #D2E3FC;\n",
              "    }\n",
              "\n",
              "    [theme=dark] .colab-df-convert:hover {\n",
              "      background-color: #434B5C;\n",
              "      box-shadow: 0px 1px 3px 1px rgba(0, 0, 0, 0.15);\n",
              "      filter: drop-shadow(0px 1px 2px rgba(0, 0, 0, 0.3));\n",
              "      fill: #FFFFFF;\n",
              "    }\n",
              "  </style>\n",
              "\n",
              "      <script>\n",
              "        const buttonEl =\n",
              "          document.querySelector('#df-417ce458-df74-4d8e-88ff-df98565bcd80 button.colab-df-convert');\n",
              "        buttonEl.style.display =\n",
              "          google.colab.kernel.accessAllowed ? 'block' : 'none';\n",
              "\n",
              "        async function convertToInteractive(key) {\n",
              "          const element = document.querySelector('#df-417ce458-df74-4d8e-88ff-df98565bcd80');\n",
              "          const dataTable =\n",
              "            await google.colab.kernel.invokeFunction('convertToInteractive',\n",
              "                                                     [key], {});\n",
              "          if (!dataTable) return;\n",
              "\n",
              "          const docLinkHtml = 'Like what you see? Visit the ' +\n",
              "            '<a target=\"_blank\" href=https://colab.research.google.com/notebooks/data_table.ipynb>data table notebook</a>'\n",
              "            + ' to learn more about interactive tables.';\n",
              "          element.innerHTML = '';\n",
              "          dataTable['output_type'] = 'display_data';\n",
              "          await google.colab.output.renderOutput(dataTable, element);\n",
              "          const docLink = document.createElement('div');\n",
              "          docLink.innerHTML = docLinkHtml;\n",
              "          element.appendChild(docLink);\n",
              "        }\n",
              "      </script>\n",
              "    </div>\n",
              "  </div>\n",
              "  "
            ],
            "text/plain": [
              "   Hour        HR     O2Sat      Temp       MAP      Resp       BUN  Chloride  \\\n",
              "0     0 -1.170030  0.865243 -1.548869 -0.397650 -0.419685  0.322965 -0.226541   \n",
              "1     1 -1.170030  0.865243 -1.548869 -0.397650 -0.419685  0.322965 -0.226541   \n",
              "2     2 -0.407913  0.865243 -1.548869 -3.187955 -0.326969  0.322965 -0.226541   \n",
              "3     3 -0.701035  0.865243 -1.548869 -0.251970 -0.326969  0.322965 -0.226541   \n",
              "4     4 -0.876908  0.865243 -1.548869 -0.251970 -0.883265  0.322965 -0.226541   \n",
              "\n",
              "   Creatinine   Glucose       Hct       Hgb       WBC  Platelets    Age  \\\n",
              "0   -0.410796  0.854631 -0.311111 -0.652538  0.149678   1.140763  68.54   \n",
              "1   -0.410796  0.854631 -0.311111 -0.652538  0.149678   1.140763  68.54   \n",
              "2   -0.410796  0.854631 -0.311111 -0.652538  0.149678   1.140763  68.54   \n",
              "3   -0.410796  0.854631 -0.311111 -0.652538  0.149678   1.140763  68.54   \n",
              "4   -0.410796  0.854631 -0.311111 -0.652538  0.149678   1.140763  68.54   \n",
              "\n",
              "   HospAdmTime  ICULOS  SepsisLabel  0  1  \n",
              "0        -0.02       1            0  1  0  \n",
              "1        -0.02       2            0  1  0  \n",
              "2        -0.02       3            0  1  0  \n",
              "3        -0.02       4            0  1  0  \n",
              "4        -0.02       5            0  1  0  "
            ]
          },
          "execution_count": 19,
          "metadata": {},
          "output_type": "execute_result"
        }
      ],
      "source": [
        "scaler = StandardScaler()\n",
        "df_train_impute[['HR', 'O2Sat', 'Temp', 'MAP', 'Resp', 'BUN', 'Chloride',\n",
        "       'Creatinine', 'Glucose', 'Hct', 'Hgb', 'WBC', 'Platelets']] = scaler.fit_transform(df_train_impute[['HR', 'O2Sat', 'Temp', 'MAP', 'Resp', 'BUN', 'Chloride',\n",
        "       'Creatinine', 'Glucose', 'Hct', 'Hgb', 'WBC', 'Platelets']])\n",
        "df_train_impute.head()"
      ]
    },
    {
      "cell_type": "code",
      "execution_count": 20,
      "metadata": {
        "id": "QhUwmYzQqdcf"
      },
      "outputs": [],
      "source": [
        "df_train_impute = df_train_impute.dropna()"
      ]
    },
    {
      "cell_type": "code",
      "execution_count": 21,
      "metadata": {
        "colab": {
          "base_uri": "https://localhost:8080/"
        },
        "id": "x-TDYQgGqgYx",
        "outputId": "b541db53-7be8-4c93-cf52-a37109678390"
      },
      "outputs": [
        {
          "data": {
            "text/plain": [
              "Hour           0.0\n",
              "HR             0.0\n",
              "O2Sat          0.0\n",
              "Temp           0.0\n",
              "MAP            0.0\n",
              "Resp           0.0\n",
              "BUN            0.0\n",
              "Chloride       0.0\n",
              "Creatinine     0.0\n",
              "Glucose        0.0\n",
              "Hct            0.0\n",
              "Hgb            0.0\n",
              "WBC            0.0\n",
              "Platelets      0.0\n",
              "Age            0.0\n",
              "HospAdmTime    0.0\n",
              "ICULOS         0.0\n",
              "SepsisLabel    0.0\n",
              "0              0.0\n",
              "1              0.0\n",
              "dtype: float64"
            ]
          },
          "execution_count": 21,
          "metadata": {},
          "output_type": "execute_result"
        }
      ],
      "source": [
        "null_values = df_train_impute.isnull().mean()*100\n",
        "null_values"
      ]
    },
    {
      "cell_type": "code",
      "execution_count": 22,
      "metadata": {
        "id": "m8B3B0_wqmcf"
      },
      "outputs": [],
      "source": [
        "def get_data_ready(df):\n",
        "  columns_drop={'Unnamed: 0','SBP','DBP','EtCO2','BaseExcess', 'HCO3','pH','PaCO2','Alkalinephos', 'Calcium','Magnesium', \n",
        "  'Phosphate','Potassium','PTT','Fibrinogen','Unit1','Unit2'}\n",
        "  df = df.assign(Unit=df['Unit1'] + df['Unit2'])\n",
        "  # dropping columns based on redundancy\n",
        "  df = df.drop(columns=columns_drop)\n",
        "  grouped_by_patient = df.groupby('Patient_ID')\n",
        "  # imputing backfill and forward fill\n",
        "  df = grouped_by_patient.apply(lambda x: x.bfill().ffill())\n",
        "  # dropping all the columns with null values more than 25% and patient_id\n",
        "  null_col = ['TroponinI', 'Bilirubin_direct', 'AST', 'Bilirubin_total', 'Lactate', 'SaO2', 'FiO2','Unit', 'Patient_ID']\n",
        "  df = df.drop(columns=null_col)\n",
        "  # gaussian transformation\n",
        "  columns_normalized = ['MAP', 'BUN', 'Creatinine', 'Glucose', 'WBC', 'Platelets' ]\n",
        "  for i in columns_normalized:\n",
        "    df[i] = np.log(df[i]+1)\n",
        "  # normailizing\n",
        "  scaler = StandardScaler()\n",
        "  df[['HR', 'O2Sat', 'Temp', 'MAP', 'Resp', 'BUN', 'Chloride',\n",
        "       'Creatinine', 'Glucose', 'Hct', 'Hgb', 'WBC', 'Platelets']] = scaler.fit_transform(df[['HR', 'O2Sat', 'Temp', 'MAP', 'Resp', 'BUN', 'Chloride',\n",
        "       'Creatinine', 'Glucose', 'Hct', 'Hgb', 'WBC', 'Platelets']])\n",
        "  # onehot encoding the gender\n",
        "  one_hot = pd.get_dummies(df['Gender'])\n",
        "  df = df.join(one_hot)\n",
        "  df = df.drop('Gender', axis=1)\n",
        "  df = df.dropna()\n",
        "  return df"
      ]
    },
    {
      "cell_type": "code",
      "execution_count": 23,
      "metadata": {
        "id": "K8ljXctXqnXl"
      },
      "outputs": [],
      "source": [
        "def evaluate_model(y_true,y_pred):\n",
        "  accuracy = accuracy_score(y_true, y_pred)\n",
        "  print(\"Accuracy:\", accuracy)\n",
        "  precision = precision_score(y_true, y_pred)\n",
        "  print(\"Precision:\", precision)\n",
        "  recall = recall_score(y_true, y_pred)\n",
        "  print(\"Recall:\", recall)\n",
        "  f1 = f1_score(y_true, y_pred)\n",
        "  print(\"F1 Score:\", f1)\n",
        "  auc = roc_auc_score(y_true, y_pred)\n",
        "  print(\"AUC-ROC:\", auc)\n",
        "  mae = mean_absolute_error(y_true, y_pred)\n",
        "  print(\"Mean Absolute Error:\", mae)\n",
        "  rmse = np.sqrt(mean_squared_error(y_true, y_pred))\n",
        "  print(\"Root Mean Squared Error:\", rmse)\n",
        "  cm = confusion_matrix(y_true, y_pred)\n",
        "  sns.heatmap(cm, annot=True, fmt='d')\n",
        "  plt.show()"
      ]
    },
    {
      "cell_type": "code",
      "execution_count": 24,
      "metadata": {
        "colab": {
          "base_uri": "https://localhost:8080/"
        },
        "id": "yQrDtYbYqslW",
        "outputId": "ddd4db94-99a0-440b-8dd7-696a0e8ef863"
      },
      "outputs": [
        {
          "name": "stdout",
          "output_type": "stream",
          "text": [
            "number of sepsis label 1 is 15284\n",
            "while number of sepsis label 0 is 750935\n"
          ]
        }
      ],
      "source": [
        "majority_class = df_train_impute[df_train_impute['SepsisLabel'] == 0]\n",
        "minority_class = df_train_impute[df_train_impute['SepsisLabel'] == 1]\n",
        "print('number of sepsis label 1 is {}'.format(len(minority_class)))\n",
        "print('while number of sepsis label 0 is {}'.format(len(majority_class)))"
      ]
    },
    {
      "cell_type": "code",
      "execution_count": 25,
      "metadata": {
        "id": "5GCt36Z0skdH"
      },
      "outputs": [],
      "source": [
        "majority_class_subset = majority_class.sample(n=2*len(minority_class))\n",
        "df_train_impute = pd.concat([majority_class_subset, minority_class])"
      ]
    },
    {
      "cell_type": "code",
      "execution_count": 26,
      "metadata": {
        "id": "PFOhFhjHspYS"
      },
      "outputs": [],
      "source": [
        "majority_class = df_train_impute[df_train_impute['SepsisLabel'] == 0]\n",
        "minority_class = df_train_impute[df_train_impute['SepsisLabel'] == 1]"
      ]
    },
    {
      "cell_type": "code",
      "execution_count": 27,
      "metadata": {
        "colab": {
          "base_uri": "https://localhost:8080/"
        },
        "id": "r7Mk0X4cst4j",
        "outputId": "3813531c-49f6-40b9-f615-9fc10eda04a3"
      },
      "outputs": [
        {
          "name": "stdout",
          "output_type": "stream",
          "text": [
            "number of sepsis label 1 is 15284\n",
            "while number of sepsis label 0 is 30568\n"
          ]
        }
      ],
      "source": [
        "print('number of sepsis label 1 is {}'.format(len(minority_class)))\n",
        "print('while number of sepsis label 0 is {}'.format(len(majority_class)))"
      ]
    },
    {
      "cell_type": "code",
      "execution_count": 28,
      "metadata": {
        "id": "bsMiLW8bs7K2"
      },
      "outputs": [],
      "source": [
        "X = df_train_impute.drop('SepsisLabel', axis=1)\n",
        "y = df_train_impute['SepsisLabel']\n",
        "X_train, X_test, y_train, y_test = train_test_split(X, y, test_size=0.2)\n",
        "\n",
        "# X_train = X_train.values\n",
        "# X_test = X_text.values\n",
        "# y_train = y_train.values\n",
        "# y_test = y_test.values\n",
        "Xtrn = X_train.values\n",
        "ytrn = y_train.values\n",
        "\n",
        "Xtst = X_test.values\n",
        "ytst = y_test.values"
      ]
    },
    {
      "cell_type": "code",
      "execution_count": 29,
      "metadata": {
        "colab": {
          "base_uri": "https://localhost:8080/",
          "height": 981
        },
        "id": "QLnHU4uHs-Hd",
        "outputId": "fa8d4a5d-0d4e-4cc6-ae4d-42c00a3a1c21"
      },
      "outputs": [
        {
          "name": "stdout",
          "output_type": "stream",
          "text": [
            "Accuracy: 0.9543125068149602\n",
            "Precision: 0.91005291005291\n",
            "Recall: 0.9574328749181401\n",
            "F1 Score: 0.9331418541566937\n",
            "AUC-ROC: 0.9550937465975365\n",
            "Mean Absolute Error: 0.0456874931850398\n",
            "Root Mean Squared Error: 0.21374632905628999\n"
          ]
        },
        {
          "data": {
            "image/png": "[encoded data removed]",
            "text/plain": [
              "<Figure size 640x480 with 2 Axes>"
            ]
          },
          "metadata": {},
          "output_type": "display_data"
        },
        {
          "data": {
            "image/png": "[encoded data removed]",
            "text/plain": [
              "<Figure size 640x480 with 1 Axes>"
            ]
          },
          "metadata": {},
          "output_type": "display_data"
        }
      ],
      "source": [
        "from sklearn.ensemble import RandomForestClassifier\n",
        "model = RandomForestClassifier(n_estimators=300, random_state=0)\n",
        "\n",
        "model.fit(Xtrn, ytrn)\n",
        "#y_score = model.decision_function(Xtst)\n",
        "rcf_predictions = model.predict(Xtst)\n",
        "evaluate_model(ytst,rcf_predictions)\n",
        "fpr, tpr, _ = roc_curve(ytst, rcf_predictions, pos_label=model.classes_[1])\n",
        "roc_display = RocCurveDisplay(fpr=fpr, tpr=tpr).plot()\n"
      ]
    },
    {
      "cell_type": "code",
      "execution_count": null,
      "metadata": {
        "id": "6oXThq-1yrSO"
      },
      "outputs": [],
      "source": []
    },
    {
      "cell_type": "code",
      "execution_count": 30,
      "metadata": {
        "colab": {
          "base_uri": "https://localhost:8080/",
          "height": 981
        },
        "id": "5KAJCT9KyvVK",
        "outputId": "2438a6a8-e444-409d-fb81-dc332aa468a5"
      },
      "outputs": [
        {
          "name": "stdout",
          "output_type": "stream",
          "text": [
            "Accuracy: 0.7499727401591975\n",
            "Precision: 0.7069059271343121\n",
            "Recall: 0.4256712508185986\n",
            "F1 Score: 0.5313713468219907\n",
            "AUC-ROC: 0.6687780808613183\n",
            "Mean Absolute Error: 0.25002725984080254\n",
            "Root Mean Squared Error: 0.5000272590977441\n"
          ]
        },
        {
          "data": {
            "image/png": "[encoded data removed]",
            "text/plain": [
              "<Figure size 640x480 with 2 Axes>"
            ]
          },
          "metadata": {},
          "output_type": "display_data"
        },
        {
          "data": {
            "image/png": "[encoded data removed]",
            "text/plain": [
              "<Figure size 640x480 with 1 Axes>"
            ]
          },
          "metadata": {},
          "output_type": "display_data"
        }
      ],
      "source": [
        "from sklearn.naive_bayes import GaussianNB\n",
        "model = GaussianNB()\n",
        "model.fit(Xtrn, ytrn)\n",
        "nbc_predictions = model.predict(Xtst)\n",
        "evaluate_model(ytst,nbc_predictions)\n",
        "fpr, tpr, _ = roc_curve(ytst, nbc_predictions, pos_label=model.classes_[1])\n",
        "roc_display = RocCurveDisplay(fpr=fpr, tpr=tpr).plot()"
      ]
    },
    {
      "cell_type": "code",
      "execution_count": 31,
      "metadata": {
        "colab": {
          "base_uri": "https://localhost:8080/",
          "height": 981
        },
        "id": "d4EZF-xX3vUh",
        "outputId": "037c9819-d3f0-4f51-e3e9-f254debc36fc"
      },
      "outputs": [
        {
          "name": "stdout",
          "output_type": "stream",
          "text": [
            "Accuracy: 0.7469196379893142\n",
            "Precision: 0.7396991497710922\n",
            "Recall: 0.3703339882121807\n",
            "F1 Score: 0.4935631682304168\n",
            "AUC-ROC: 0.6526347070372658\n",
            "Mean Absolute Error: 0.25308036201068584\n",
            "Root Mean Squared Error: 0.5030709313910772\n"
          ]
        },
        {
          "data": {
            "image/png": "[encoded data removed]",
            "text/plain": [
              "<Figure size 640x480 with 2 Axes>"
            ]
          },
          "metadata": {},
          "output_type": "display_data"
        },
        {
          "data": {
            "image/png": "[encoded data removed]",
            "text/plain": [
              "<Figure size 640x480 with 1 Axes>"
            ]
          },
          "metadata": {},
          "output_type": "display_data"
        }
      ],
      "source": [
        "from sklearn.linear_model import LogisticRegression\n",
        "model = LogisticRegression(penalty = 'l2',max_iter = 500)\n",
        "model.fit(Xtrn, ytrn)\n",
        "lr_predictions = model.predict(Xtst)\n",
        "evaluate_model(ytst,lr_predictions)\n",
        "fpr, tpr, _ = roc_curve(ytst, lr_predictions, pos_label=model.classes_[1])\n",
        "roc_display = RocCurveDisplay(fpr=fpr, tpr=tpr).plot()"
      ]
    },
    {
      "cell_type": "code",
      "execution_count": 32,
      "metadata": {
        "colab": {
          "base_uri": "https://localhost:8080/",
          "height": 981
        },
        "id": "U1gtJknQApwm",
        "outputId": "3a2c7755-e0fb-4da9-c4c8-5ed50bee38c1"
      },
      "outputs": [
        {
          "name": "stdout",
          "output_type": "stream",
          "text": [
            "Accuracy: 0.8953222113182859\n",
            "Precision: 0.8048922539312755\n",
            "Recall: 0.9050425671250819\n",
            "F1 Score: 0.8520345252774353\n",
            "AUC-ROC: 0.8977558756828613\n",
            "Mean Absolute Error: 0.1046777886817141\n",
            "Root Mean Squared Error: 0.32353947005228606\n"
          ]
        },
        {
          "data": {
            "image/png": "[encoded data removed]",
            "text/plain": [
              "<Figure size 640x480 with 2 Axes>"
            ]
          },
          "metadata": {},
          "output_type": "display_data"
        },
        {
          "data": {
            "image/png": "[encoded data removed]",
            "text/plain": [
              "<Figure size 640x480 with 1 Axes>"
            ]
          },
          "metadata": {},
          "output_type": "display_data"
        }
      ],
      "source": [
        "from sklearn import tree\n",
        "dtree = tree.DecisionTreeClassifier()\n",
        "dtree.fit(Xtrn, ytrn)\n",
        "tree_predictions = dtree.predict(Xtst)\n",
        "evaluate_model(ytst,tree_predictions)\n",
        "fpr, tpr, _ = roc_curve(ytst, tree_predictions, pos_label=model.classes_[1])\n",
        "roc_display = RocCurveDisplay(fpr=fpr, tpr=tpr).plot()"
      ]
    },
    {
      "cell_type": "code",
      "execution_count": null,
      "metadata": {
        "id": "iIFfiEQ65k-Q"
      },
      "outputs": [],
      "source": [
        "def partition(x):\n",
        "    \"\"\"\n",
        "    Partition the column vector x into subsets indexed by its unique values (v1, ... vk)\n",
        "\n",
        "    Returns a dictionary of the form\n",
        "    { v1: indices of x == v1,\n",
        "      v2: indices of x == v2,\n",
        "      ...\n",
        "      vk: indices of x == vk }, where [v1, ... vk] are all the unique values in the vector z.\n",
        "    \"\"\"\n",
        "\n",
        "    # INSERT YOUR CODE HERE\n",
        "    partition_dictionary = {}\n",
        "\n",
        "    for key in np.unique(x):\n",
        "        partition_dictionary.update({key : np.where(x==key)[0]})\n",
        "\n",
        "    return partition_dictionary\n",
        "    #raise Exception('Function not yet implemented!')\n",
        "  \n",
        "\n",
        "# function to calculate depth of the tree\n",
        "def find_depth(tree, tree_depth=1):   \n",
        "    for k in tree:\n",
        "        if isinstance(tree[k], dict):\n",
        "            tree_depth = find_depth(tree[k], tree_depth + 1)\n",
        "    return tree_depth\n",
        "\n",
        "\n",
        "\n",
        "def entropy(y):\n",
        "    \"\"\"\n",
        "    Compute the entropy of a vector y by considering the counts of the unique values (v1, ... vk), in z\n",
        "\n",
        "    Returns the entropy of z: H(z) = p(z=v1) log2(p(z=v1)) + ... + p(z=vk) log2(p(z=vk))\n",
        "    \"\"\"\n",
        "\n",
        "    # INSERT YOUR CODE HERE\n",
        "    uniqval_arr = partition(y)\n",
        "    total_count = len(y)\n",
        "\n",
        "    entropy_sum = 0\n",
        "\n",
        "    for key in uniqval_arr.keys():\n",
        "        tmp = (float)(len(uniqval_arr[key])/total_count)\n",
        "        entropy_sum += -(tmp*np.log2(tmp))\n",
        "\n",
        "    return entropy_sum\n",
        "    #raise Exception('Function not yet implemented!')\n",
        "    \n",
        "    \n",
        "\n",
        "\n",
        "def mutual_information(x, y):\n",
        "    \"\"\"\n",
        "    Compute the mutual information between a data column (x) and the labels (y). The data column is a single attribute\n",
        "    over all the examples (n x 1). Mutual information is the difference between the entropy BEFORE the split set, and\n",
        "    the weighted-average entropy of EACH possible split.\n",
        "\n",
        "    Returns the mutual information: I(x, y) = H(y) - H(y | x)\n",
        "    \"\"\"\n",
        "\n",
        "    # INSERT YOUR CODE HERE\n",
        "    entropy_y = entropy(y)\n",
        "    totalcountforx = len(x)\n",
        "    uniqval_arrforx = partition(x)\n",
        "\n",
        "    entropy_ybyx = 0\n",
        "\n",
        "    for k in uniqval_arrforx.keys():\n",
        "        x_tmp = (float)(len(uniqval_arrforx[k]/totalcountforx))\n",
        "        y_prime= [y[j] for j in uniqval_arrforx[k]]\n",
        "        ybyx_prime = entropy(y_prime)\n",
        "        entropy_ybyx += (x_tmp * ybyx_prime)\n",
        "\n",
        "    final_entrpy = (entropy_y - entropy_ybyx)\n",
        "    return final_entrpy\n",
        "    #raise Exception('Function not yet implemented!')\n",
        "    \n",
        "    \n",
        "def get_attribute_value_pairs(x,attribute_value_pairs):\n",
        "    if (attribute_value_pairs is None):\n",
        "        attribute_value_pairs = []\n",
        "        for i in range (len(x[0])):\n",
        "            for j in np.unique(np.array([arr[i] for arr in x])):\n",
        "                attribute_value_pairs.append((i, j))\n",
        "    attribute_value_pairs = np.array(attribute_value_pairs)\n",
        "    return attribute_value_pairs\n",
        "\n",
        "\n",
        "def get_gain(x,y,attribute_value_pairs):\n",
        "    A = []\n",
        "    for feat, val in attribute_value_pairs:\n",
        "        feat = int(feat)\n",
        "        A.append(mutual_information(np.asarray((x[:, feat] == val), dtype=int), y))\n",
        "    A = np.array(A)\n",
        "\n",
        "    return A   \n",
        "\n",
        "\n",
        "def id3(x, y, attribute_value_pairs=None, depth=0, max_depth=5):\n",
        "    \n",
        "\n",
        "    y_val,y_count = np.unique(y,return_counts=True)\n",
        "    attribute_value_pairs = get_attribute_value_pairs(x,attribute_value_pairs)\n",
        "   \n",
        "    if(len(y_val) == 1):\n",
        "        return y_val[0]\n",
        "\n",
        "    \n",
        "    if(len(attribute_value_pairs) == 0 or depth == max_depth):\n",
        "        a = np.argmax(y_count)\n",
        "        return y_val[a]\n",
        "\n",
        "   \n",
        "    rec_tree = {}\n",
        "    gain = []\n",
        "  \n",
        "    gain = get_gain(x,y,attribute_value_pairs)\n",
        "  \n",
        "    (feat, val) = attribute_value_pairs[np.argmax(gain)]\n",
        "    feat = int(feat)\n",
        "    split = partition(np.array(np.asarray((x[:, feat] == val), dtype=int)))\n",
        "   \n",
        "    attribute_value_pairs = np.delete(attribute_value_pairs, np.argmax(gain), 0)\n",
        "\n",
        "    for value, idx in split.items():\n",
        "        x_subset = x.take(np.array(idx), axis=0)\n",
        "        y_subset = y.take(np.array(idx), axis=0)\n",
        "      \n",
        "        rec_tree[(feat, val, bool(value))] = id3(x_subset, y_subset, attribute_value_pairs=attribute_value_pairs, depth=depth+1, max_depth=max_depth)\n",
        "\n",
        "    return rec_tree\n",
        "\n",
        "    \n",
        "    \n",
        "\n",
        "\n",
        "    \n",
        "def predict_example(x, tree):\n",
        "    \n",
        "    \n",
        "    for node,subtree in tree.items():\n",
        "        \n",
        "        attribute_index = node[0]\n",
        "        attribute_value = node[1]\n",
        "        attribute_decision = node[2]\n",
        "\n",
        "        if attribute_decision == (x[attribute_index] == attribute_value):\n",
        "            if type(subtree) is dict:\n",
        "                return predict_example(x,subtree)\n",
        "            else:\n",
        "                return subtree\n",
        "                \n",
        "               \n",
        "\n",
        "def compute_error(y_true, y_pred):\n",
        "   \n",
        "    n = len(y_true)\n",
        "    error = (1/n) * sum(y_true != y_pred)\n",
        "    return error\n",
        "    \n",
        "    \n",
        "\n",
        "def visualize(tree, depth=0):\n",
        "    \n",
        "\n",
        "    if depth == 0:\n",
        "        print('TREE')\n",
        "\n",
        "    for index, split_criterion in enumerate(tree):\n",
        "        sub_trees = tree[split_criterion]\n",
        "\n",
        "        # Print the current node: split criterion\n",
        "        print('|\\t' * depth, end='')\n",
        "        print('+-- [SPLIT: x{0} = {1}]'.format(split_criterion[0], split_criterion[1]))\n",
        "\n",
        "        # Print the children\n",
        "        if type(sub_trees) is dict:\n",
        "            visualize(sub_trees, depth + 1)\n",
        "        else:\n",
        "            print('|\\t' * (depth + 1), end='')\n",
        "            print('+-- [LABEL = {0}]'.format(sub_trees))"
      ]
    },
    {
      "cell_type": "code",
      "execution_count": null,
      "metadata": {
        "colab": {
          "base_uri": "https://localhost:8080/"
        },
        "id": "4XSnZ7dp564I",
        "outputId": "8752fe2f-ba2c-4138-971e-f5ed95365bf5"
      },
      "outputs": [
        {
          "name": "stdout",
          "output_type": "stream",
          "text": [
            "32.984378833728634\n",
            "33.22429397012321\n"
          ]
        }
      ],
      "source": [
        "#trn_err = []\n",
        "#tst_err = []\n",
        "#depth = []\n",
        "\n",
        "#for p in range(1,5):\n",
        "decision_tree = id3(Xtrn, ytrn, max_depth=5)\n",
        "#depth.append(p)\n",
        "# Compute the training & test error\n",
        "y_tr_pred = [predict_example(x, decision_tree) for x in Xtrn]\n",
        "trn_err = compute_error(ytrn, y_tr_pred)*100\n",
        "#trn_err.append((compute_error(ytrn, y_tr_pred)*100))\n",
        "y_pred = [predict_example(x, decision_tree) for x in Xtst]\n",
        "tst_err = (compute_error(ytst, y_pred)*100)\n",
        "#tst_err.append((compute_error(ytst, y_pred)*100))\n",
        "print(trn_err)\n",
        "print(tst_err)            \n",
        "#print the train & test error for differnt depths\n",
        "#print('Depth:',p)\n",
        "#print('   Train Error = {0:4.2f}%.'.format(trn_err[-1]))\n",
        "#print('   Test Error = {0:4.2f}%.'.format(tst_err[-1]))"
      ]
    },
    {
      "cell_type": "code",
      "execution_count": null,
      "metadata": {
        "colab": {
          "base_uri": "https://localhost:8080/"
        },
        "id": "loHjC6MmM2HS",
        "outputId": "45a268f6-cdb5-4346-88f3-0bc2014cf321"
      },
      "outputs": [
        {
          "name": "stdout",
          "output_type": "stream",
          "text": [
            "|\t|\t|\t|\t|\t+-- [SPLIT: x15 = 0.0]\n",
            "|\t|\t|\t|\t|\t|\t+-- [SPLIT: x3 = 2.0223502588829914]\n",
            "|\t|\t|\t|\t|\t|\t|\t+-- [SPLIT: x0 = 0.0]\n",
            "|\t|\t|\t|\t|\t|\t|\t|\t+-- [SPLIT: x0 = 1.0]\n",
            "|\t|\t|\t|\t|\t|\t|\t|\t|\t+-- [SPLIT: x8 = -0.4107956921570727]\n",
            "|\t|\t|\t|\t|\t|\t|\t|\t|\t|\t+-- [LABEL = 0]\n",
            "|\t|\t|\t|\t|\t|\t|\t|\t|\t+-- [SPLIT: x8 = -0.4107956921570727]\n",
            "|\t|\t|\t|\t|\t|\t|\t|\t|\t|\t+-- [LABEL = 0]\n",
            "|\t|\t|\t|\t|\t|\t|\t|\t+-- [SPLIT: x0 = 1.0]\n",
            "|\t|\t|\t|\t|\t|\t|\t|\t|\t+-- [SPLIT: x6 = 1.6215832745936]\n",
            "|\t|\t|\t|\t|\t|\t|\t|\t|\t|\t+-- [LABEL = 0]\n",
            "|\t|\t|\t|\t|\t|\t|\t|\t|\t+-- [SPLIT: x6 = 1.6215832745936]\n",
            "|\t|\t|\t|\t|\t|\t|\t|\t|\t|\t+-- [LABEL = 1]\n",
            "|\t|\t|\t|\t|\t|\t|\t+-- [SPLIT: x0 = 0.0]\n",
            "|\t|\t|\t|\t|\t|\t|\t|\t+-- [SPLIT: x6 = 1.834243053048459]\n",
            "|\t|\t|\t|\t|\t|\t|\t|\t|\t+-- [SPLIT: x8 = 1.3290238726549564]\n",
            "|\t|\t|\t|\t|\t|\t|\t|\t|\t|\t+-- [LABEL = 0]\n",
            "|\t|\t|\t|\t|\t|\t|\t|\t|\t+-- [SPLIT: x8 = 1.3290238726549564]\n",
            "|\t|\t|\t|\t|\t|\t|\t|\t|\t|\t+-- [LABEL = 1]\n",
            "|\t|\t|\t|\t|\t|\t|\t|\t+-- [SPLIT: x6 = 1.834243053048459]\n",
            "|\t|\t|\t|\t|\t|\t|\t|\t|\t+-- [LABEL = 1]\n",
            "|\t|\t|\t|\t|\t|\t+-- [SPLIT: x3 = 2.0223502588829914]\n",
            "|\t|\t|\t|\t|\t|\t|\t+-- [SPLIT: x16 = 17.0]\n",
            "|\t|\t|\t|\t|\t|\t|\t|\t+-- [SPLIT: x8 = -0.4107956921570727]\n",
            "|\t|\t|\t|\t|\t|\t|\t|\t|\t+-- [SPLIT: x6 = -1.3974178818267893]\n",
            "|\t|\t|\t|\t|\t|\t|\t|\t|\t|\t+-- [LABEL = 1]\n",
            "|\t|\t|\t|\t|\t|\t|\t|\t|\t+-- [SPLIT: x6 = -1.3974178818267893]\n",
            "|\t|\t|\t|\t|\t|\t|\t|\t|\t|\t+-- [LABEL = 0]\n",
            "|\t|\t|\t|\t|\t|\t|\t|\t+-- [SPLIT: x8 = -0.4107956921570727]\n",
            "|\t|\t|\t|\t|\t|\t|\t|\t|\t+-- [SPLIT: x6 = 0.7237464149890482]\n",
            "|\t|\t|\t|\t|\t|\t|\t|\t|\t|\t+-- [LABEL = 0]\n",
            "|\t|\t|\t|\t|\t|\t|\t|\t|\t+-- [SPLIT: x6 = 0.7237464149890482]\n",
            "|\t|\t|\t|\t|\t|\t|\t|\t|\t|\t+-- [LABEL = 1]\n",
            "|\t|\t|\t|\t|\t|\t|\t+-- [SPLIT: x16 = 17.0]\n",
            "|\t|\t|\t|\t|\t|\t|\t|\t+-- [LABEL = 0]\n",
            "|\t|\t|\t|\t|\t+-- [SPLIT: x15 = 0.0]\n",
            "|\t|\t|\t|\t|\t|\t+-- [LABEL = 0]\n"
          ]
        }
      ],
      "source": [
        "visualize(decision_tree,5)"
      ]
    },
    {
      "cell_type": "code",
      "execution_count": null,
      "metadata": {
        "colab": {
          "base_uri": "https://localhost:8080/",
          "height": 981
        },
        "id": "gKvJZRRSNO8i",
        "outputId": "8bb54618-5a07-4bc8-bb43-c65c7cb0e061"
      },
      "outputs": [
        {
          "name": "stdout",
          "output_type": "stream",
          "text": [
            "Accuracy: 0.6677570602987678\n",
            "Precision: 0.5925925925925926\n",
            "Recall: 0.01046777886817141\n",
            "F1 Score: 0.020572163291546125\n",
            "AUC-ROC: 0.5034347399411188\n",
            "Mean Absolute Error: 0.33224293970123214\n",
            "Root Mean Squared Error: 0.5764051870873753\n"
          ]
        },
        {
          "data": {
            "image/png": "[encoded data removed]",
            "text/plain": [
              "<Figure size 640x480 with 2 Axes>"
            ]
          },
          "metadata": {},
          "output_type": "display_data"
        },
        {
          "data": {
            "image/png": "[encoded data removed]",
            "text/plain": [
              "<Figure size 640x480 with 1 Axes>"
            ]
          },
          "metadata": {},
          "output_type": "display_data"
        }
      ],
      "source": [
        "#tree_predict = dtree.predict(Xtst)\n",
        "evaluate_model(ytst,y_pred)\n",
        "fpr, tpr, _ = roc_curve(ytst, y_pred, pos_label=model.classes_[1])\n",
        "roc_display = RocCurveDisplay(fpr=fpr, tpr=tpr).plot()"
      ]
    },
    {
      "cell_type": "code",
      "execution_count": null,
      "metadata": {
        "colab": {
          "base_uri": "https://localhost:8080/",
          "height": 1000
        },
        "id": "rHfYfG4YPnSa",
        "outputId": "05241c6b-0cc7-487b-90d1-aba4c84c53d8"
      },
      "outputs": [
        {
          "name": "stdout",
          "output_type": "stream",
          "text": [
            "31.763038085112182\n",
            "32.482826300294406\n",
            "|\t|\t|\t|\t|\t|\t|\t|\t|\t|\t+-- [SPLIT: x15 = 0.0]\n",
            "|\t|\t|\t|\t|\t|\t|\t|\t|\t|\t|\t+-- [SPLIT: x3 = 2.0223502588829914]\n",
            "|\t|\t|\t|\t|\t|\t|\t|\t|\t|\t|\t|\t+-- [SPLIT: x0 = 0.0]\n",
            "|\t|\t|\t|\t|\t|\t|\t|\t|\t|\t|\t|\t|\t+-- [SPLIT: x0 = 1.0]\n",
            "|\t|\t|\t|\t|\t|\t|\t|\t|\t|\t|\t|\t|\t|\t+-- [SPLIT: x8 = -0.4107956921570727]\n",
            "|\t|\t|\t|\t|\t|\t|\t|\t|\t|\t|\t|\t|\t|\t|\t+-- [SPLIT: x3 = 1.3510684180265315]\n",
            "|\t|\t|\t|\t|\t|\t|\t|\t|\t|\t|\t|\t|\t|\t|\t|\t+-- [SPLIT: x7 = -0.04388043786504828]\n",
            "|\t|\t|\t|\t|\t|\t|\t|\t|\t|\t|\t|\t|\t|\t|\t|\t|\t+-- [SPLIT: x3 = 1.9552220747973492]\n",
            "|\t|\t|\t|\t|\t|\t|\t|\t|\t|\t|\t|\t|\t|\t|\t|\t|\t|\t+-- [SPLIT: x5 = 2.0836490477072784]\n",
            "|\t|\t|\t|\t|\t|\t|\t|\t|\t|\t|\t|\t|\t|\t|\t|\t|\t|\t|\t+-- [SPLIT: x16 = 80.0]\n",
            "|\t|\t|\t|\t|\t|\t|\t|\t|\t|\t|\t|\t|\t|\t|\t|\t|\t|\t|\t|\t+-- [LABEL = 0]\n",
            "|\t|\t|\t|\t|\t|\t|\t|\t|\t|\t|\t|\t|\t|\t|\t|\t|\t|\t|\t+-- [SPLIT: x16 = 80.0]\n",
            "|\t|\t|\t|\t|\t|\t|\t|\t|\t|\t|\t|\t|\t|\t|\t|\t|\t|\t|\t|\t+-- [LABEL = 1]\n",
            "|\t|\t|\t|\t|\t|\t|\t|\t|\t|\t|\t|\t|\t|\t|\t|\t|\t|\t+-- [SPLIT: x5 = 2.0836490477072784]\n",
            "|\t|\t|\t|\t|\t|\t|\t|\t|\t|\t|\t|\t|\t|\t|\t|\t|\t|\t|\t+-- [SPLIT: x11 = -0.41687948348670795]\n",
            "|\t|\t|\t|\t|\t|\t|\t|\t|\t|\t|\t|\t|\t|\t|\t|\t|\t|\t|\t|\t+-- [LABEL = 1]\n",
            "|\t|\t|\t|\t|\t|\t|\t|\t|\t|\t|\t|\t|\t|\t|\t|\t|\t|\t|\t+-- [SPLIT: x11 = -0.41687948348670795]\n",
            "|\t|\t|\t|\t|\t|\t|\t|\t|\t|\t|\t|\t|\t|\t|\t|\t|\t|\t|\t|\t+-- [LABEL = 0]\n",
            "|\t|\t|\t|\t|\t|\t|\t|\t|\t|\t|\t|\t|\t|\t|\t|\t|\t+-- [SPLIT: x3 = 1.9552220747973492]\n",
            "|\t|\t|\t|\t|\t|\t|\t|\t|\t|\t|\t|\t|\t|\t|\t|\t|\t|\t+-- [SPLIT: x7 = 0.6867630667494308]\n",
            "|\t|\t|\t|\t|\t|\t|\t|\t|\t|\t|\t|\t|\t|\t|\t|\t|\t|\t|\t+-- [SPLIT: x0 = 7.0]\n",
            "|\t|\t|\t|\t|\t|\t|\t|\t|\t|\t|\t|\t|\t|\t|\t|\t|\t|\t|\t|\t+-- [LABEL = 1]\n",
            "|\t|\t|\t|\t|\t|\t|\t|\t|\t|\t|\t|\t|\t|\t|\t|\t|\t|\t|\t+-- [SPLIT: x0 = 7.0]\n",
            "|\t|\t|\t|\t|\t|\t|\t|\t|\t|\t|\t|\t|\t|\t|\t|\t|\t|\t|\t|\t+-- [LABEL = 0]\n",
            "|\t|\t|\t|\t|\t|\t|\t|\t|\t|\t|\t|\t|\t|\t|\t|\t|\t|\t+-- [SPLIT: x7 = 0.6867630667494308]\n",
            "|\t|\t|\t|\t|\t|\t|\t|\t|\t|\t|\t|\t|\t|\t|\t|\t|\t|\t|\t+-- [LABEL = 0]\n",
            "|\t|\t|\t|\t|\t|\t|\t|\t|\t|\t|\t|\t|\t|\t|\t|\t+-- [SPLIT: x7 = -0.04388043786504828]\n",
            "|\t|\t|\t|\t|\t|\t|\t|\t|\t|\t|\t|\t|\t|\t|\t|\t|\t+-- [SPLIT: x6 = 0.03745673283141458]\n",
            "|\t|\t|\t|\t|\t|\t|\t|\t|\t|\t|\t|\t|\t|\t|\t|\t|\t|\t+-- [SPLIT: x6 = -1.0479840110393515]\n",
            "|\t|\t|\t|\t|\t|\t|\t|\t|\t|\t|\t|\t|\t|\t|\t|\t|\t|\t|\t+-- [SPLIT: x8 = 2.2093574681927084]\n",
            "|\t|\t|\t|\t|\t|\t|\t|\t|\t|\t|\t|\t|\t|\t|\t|\t|\t|\t|\t|\t+-- [LABEL = 0]\n",
            "|\t|\t|\t|\t|\t|\t|\t|\t|\t|\t|\t|\t|\t|\t|\t|\t|\t|\t|\t+-- [SPLIT: x8 = 2.2093574681927084]\n",
            "|\t|\t|\t|\t|\t|\t|\t|\t|\t|\t|\t|\t|\t|\t|\t|\t|\t|\t|\t|\t+-- [LABEL = 1]\n",
            "|\t|\t|\t|\t|\t|\t|\t|\t|\t|\t|\t|\t|\t|\t|\t|\t|\t|\t+-- [SPLIT: x6 = -1.0479840110393515]\n",
            "|\t|\t|\t|\t|\t|\t|\t|\t|\t|\t|\t|\t|\t|\t|\t|\t|\t|\t|\t+-- [LABEL = 0]\n",
            "|\t|\t|\t|\t|\t|\t|\t|\t|\t|\t|\t|\t|\t|\t|\t|\t|\t+-- [SPLIT: x6 = 0.03745673283141458]\n",
            "|\t|\t|\t|\t|\t|\t|\t|\t|\t|\t|\t|\t|\t|\t|\t|\t|\t|\t+-- [LABEL = 0]\n",
            "|\t|\t|\t|\t|\t|\t|\t|\t|\t|\t|\t|\t|\t|\t|\t+-- [SPLIT: x3 = 1.3510684180265315]\n",
            "|\t|\t|\t|\t|\t|\t|\t|\t|\t|\t|\t|\t|\t|\t|\t|\t+-- [SPLIT: x5 = -0.32696892259889726]\n",
            "|\t|\t|\t|\t|\t|\t|\t|\t|\t|\t|\t|\t|\t|\t|\t|\t|\t+-- [SPLIT: x6 = -0.6371320731310919]\n",
            "|\t|\t|\t|\t|\t|\t|\t|\t|\t|\t|\t|\t|\t|\t|\t|\t|\t|\t+-- [SPLIT: x8 = 0.4486902771172041]\n",
            "|\t|\t|\t|\t|\t|\t|\t|\t|\t|\t|\t|\t|\t|\t|\t|\t|\t|\t|\t+-- [SPLIT: x11 = -1.5951737191424753]\n",
            "|\t|\t|\t|\t|\t|\t|\t|\t|\t|\t|\t|\t|\t|\t|\t|\t|\t|\t|\t|\t+-- [LABEL = 1]\n",
            "|\t|\t|\t|\t|\t|\t|\t|\t|\t|\t|\t|\t|\t|\t|\t|\t|\t|\t|\t+-- [SPLIT: x11 = -1.5951737191424753]\n",
            "|\t|\t|\t|\t|\t|\t|\t|\t|\t|\t|\t|\t|\t|\t|\t|\t|\t|\t|\t|\t+-- [LABEL = 0]\n",
            "|\t|\t|\t|\t|\t|\t|\t|\t|\t|\t|\t|\t|\t|\t|\t|\t|\t|\t+-- [SPLIT: x8 = 0.4486902771172041]\n",
            "|\t|\t|\t|\t|\t|\t|\t|\t|\t|\t|\t|\t|\t|\t|\t|\t|\t|\t|\t+-- [LABEL = 0]\n",
            "|\t|\t|\t|\t|\t|\t|\t|\t|\t|\t|\t|\t|\t|\t|\t|\t|\t+-- [SPLIT: x6 = -0.6371320731310919]\n",
            "|\t|\t|\t|\t|\t|\t|\t|\t|\t|\t|\t|\t|\t|\t|\t|\t|\t|\t+-- [LABEL = 0]\n",
            "|\t|\t|\t|\t|\t|\t|\t|\t|\t|\t|\t|\t|\t|\t|\t|\t+-- [SPLIT: x5 = -0.32696892259889726]\n",
            "|\t|\t|\t|\t|\t|\t|\t|\t|\t|\t|\t|\t|\t|\t|\t|\t|\t+-- [SPLIT: x0 = 72.0]\n",
            "|\t|\t|\t|\t|\t|\t|\t|\t|\t|\t|\t|\t|\t|\t|\t|\t|\t|\t+-- [SPLIT: x0 = 87.0]\n",
            "|\t|\t|\t|\t|\t|\t|\t|\t|\t|\t|\t|\t|\t|\t|\t|\t|\t|\t|\t+-- [SPLIT: x0 = 127.0]\n",
            "|\t|\t|\t|\t|\t|\t|\t|\t|\t|\t|\t|\t|\t|\t|\t|\t|\t|\t|\t|\t+-- [LABEL = 0]\n",
            "|\t|\t|\t|\t|\t|\t|\t|\t|\t|\t|\t|\t|\t|\t|\t|\t|\t|\t|\t+-- [SPLIT: x0 = 127.0]\n",
            "|\t|\t|\t|\t|\t|\t|\t|\t|\t|\t|\t|\t|\t|\t|\t|\t|\t|\t|\t|\t+-- [LABEL = 1]\n",
            "|\t|\t|\t|\t|\t|\t|\t|\t|\t|\t|\t|\t|\t|\t|\t|\t|\t|\t+-- [SPLIT: x0 = 87.0]\n",
            "|\t|\t|\t|\t|\t|\t|\t|\t|\t|\t|\t|\t|\t|\t|\t|\t|\t|\t|\t+-- [LABEL = 1]\n",
            "|\t|\t|\t|\t|\t|\t|\t|\t|\t|\t|\t|\t|\t|\t|\t|\t|\t+-- [SPLIT: x0 = 72.0]\n",
            "|\t|\t|\t|\t|\t|\t|\t|\t|\t|\t|\t|\t|\t|\t|\t|\t|\t|\t+-- [LABEL = 1]\n",
            "|\t|\t|\t|\t|\t|\t|\t|\t|\t|\t|\t|\t|\t|\t+-- [SPLIT: x8 = -0.4107956921570727]\n",
            "|\t|\t|\t|\t|\t|\t|\t|\t|\t|\t|\t|\t|\t|\t|\t+-- [SPLIT: x3 = 2.3311399056769684]\n",
            "|\t|\t|\t|\t|\t|\t|\t|\t|\t|\t|\t|\t|\t|\t|\t|\t+-- [SPLIT: x13 = -0.5961519905398378]\n",
            "|\t|\t|\t|\t|\t|\t|\t|\t|\t|\t|\t|\t|\t|\t|\t|\t|\t+-- [SPLIT: x14 = 60.64]\n",
            "|\t|\t|\t|\t|\t|\t|\t|\t|\t|\t|\t|\t|\t|\t|\t|\t|\t|\t+-- [SPLIT: x6 = -0.2170414064882032]\n",
            "|\t|\t|\t|\t|\t|\t|\t|\t|\t|\t|\t|\t|\t|\t|\t|\t|\t|\t|\t+-- [SPLIT: x11 = -0.5936236188350734]\n",
            "|\t|\t|\t|\t|\t|\t|\t|\t|\t|\t|\t|\t|\t|\t|\t|\t|\t|\t|\t|\t+-- [LABEL = 0]\n",
            "|\t|\t|\t|\t|\t|\t|\t|\t|\t|\t|\t|\t|\t|\t|\t|\t|\t|\t|\t+-- [SPLIT: x11 = -0.5936236188350734]\n",
            "|\t|\t|\t|\t|\t|\t|\t|\t|\t|\t|\t|\t|\t|\t|\t|\t|\t|\t|\t|\t+-- [LABEL = 1]\n",
            "|\t|\t|\t|\t|\t|\t|\t|\t|\t|\t|\t|\t|\t|\t|\t|\t|\t|\t+-- [SPLIT: x6 = -0.2170414064882032]\n",
            "|\t|\t|\t|\t|\t|\t|\t|\t|\t|\t|\t|\t|\t|\t|\t|\t|\t|\t|\t+-- [SPLIT: x10 = 1.437571591107611]\n",
            "|\t|\t|\t|\t|\t|\t|\t|\t|\t|\t|\t|\t|\t|\t|\t|\t|\t|\t|\t|\t+-- [LABEL = 0]\n",
            "|\t|\t|\t|\t|\t|\t|\t|\t|\t|\t|\t|\t|\t|\t|\t|\t|\t|\t|\t+-- [SPLIT: x10 = 1.437571591107611]\n",
            "|\t|\t|\t|\t|\t|\t|\t|\t|\t|\t|\t|\t|\t|\t|\t|\t|\t|\t|\t|\t+-- [LABEL = 1]\n",
            "|\t|\t|\t|\t|\t|\t|\t|\t|\t|\t|\t|\t|\t|\t|\t|\t|\t+-- [SPLIT: x14 = 60.64]\n",
            "|\t|\t|\t|\t|\t|\t|\t|\t|\t|\t|\t|\t|\t|\t|\t|\t|\t|\t+-- [LABEL = 1]\n",
            "|\t|\t|\t|\t|\t|\t|\t|\t|\t|\t|\t|\t|\t|\t|\t|\t+-- [SPLIT: x13 = -0.5961519905398378]\n",
            "|\t|\t|\t|\t|\t|\t|\t|\t|\t|\t|\t|\t|\t|\t|\t|\t|\t+-- [SPLIT: x3 = -0.8104591095312688]\n",
            "|\t|\t|\t|\t|\t|\t|\t|\t|\t|\t|\t|\t|\t|\t|\t|\t|\t|\t+-- [SPLIT: x3 = -0.05862344777203061]\n",
            "|\t|\t|\t|\t|\t|\t|\t|\t|\t|\t|\t|\t|\t|\t|\t|\t|\t|\t|\t+-- [SPLIT: x6 = -0.31197713795602267]\n",
            "|\t|\t|\t|\t|\t|\t|\t|\t|\t|\t|\t|\t|\t|\t|\t|\t|\t|\t|\t|\t+-- [LABEL = 1]\n",
            "|\t|\t|\t|\t|\t|\t|\t|\t|\t|\t|\t|\t|\t|\t|\t|\t|\t|\t|\t+-- [SPLIT: x6 = -0.31197713795602267]\n",
            "|\t|\t|\t|\t|\t|\t|\t|\t|\t|\t|\t|\t|\t|\t|\t|\t|\t|\t|\t|\t+-- [LABEL = 0]\n",
            "|\t|\t|\t|\t|\t|\t|\t|\t|\t|\t|\t|\t|\t|\t|\t|\t|\t|\t+-- [SPLIT: x3 = -0.05862344777203061]\n",
            "|\t|\t|\t|\t|\t|\t|\t|\t|\t|\t|\t|\t|\t|\t|\t|\t|\t|\t|\t+-- [LABEL = 0]\n",
            "|\t|\t|\t|\t|\t|\t|\t|\t|\t|\t|\t|\t|\t|\t|\t|\t|\t+-- [SPLIT: x3 = -0.8104591095312688]\n",
            "|\t|\t|\t|\t|\t|\t|\t|\t|\t|\t|\t|\t|\t|\t|\t|\t|\t|\t+-- [LABEL = 0]\n",
            "|\t|\t|\t|\t|\t|\t|\t|\t|\t|\t|\t|\t|\t|\t|\t+-- [SPLIT: x3 = 2.3311399056769684]\n",
            "|\t|\t|\t|\t|\t|\t|\t|\t|\t|\t|\t|\t|\t|\t|\t|\t+-- [SPLIT: x0 = 152.0]\n",
            "|\t|\t|\t|\t|\t|\t|\t|\t|\t|\t|\t|\t|\t|\t|\t|\t|\t+-- [LABEL = 1]\n",
            "|\t|\t|\t|\t|\t|\t|\t|\t|\t|\t|\t|\t|\t|\t|\t|\t+-- [SPLIT: x0 = 152.0]\n",
            "|\t|\t|\t|\t|\t|\t|\t|\t|\t|\t|\t|\t|\t|\t|\t|\t|\t+-- [LABEL = 0]\n",
            "|\t|\t|\t|\t|\t|\t|\t|\t|\t|\t|\t|\t|\t+-- [SPLIT: x0 = 1.0]\n",
            "|\t|\t|\t|\t|\t|\t|\t|\t|\t|\t|\t|\t|\t|\t+-- [SPLIT: x6 = 1.6215832745936]\n",
            "|\t|\t|\t|\t|\t|\t|\t|\t|\t|\t|\t|\t|\t|\t|\t+-- [SPLIT: x7 = 0.3214413144421912]\n",
            "|\t|\t|\t|\t|\t|\t|\t|\t|\t|\t|\t|\t|\t|\t|\t|\t+-- [SPLIT: x12 = 0.998174517993047]\n",
            "|\t|\t|\t|\t|\t|\t|\t|\t|\t|\t|\t|\t|\t|\t|\t|\t|\t+-- [SPLIT: x8 = 1.3290238726549564]\n",
            "|\t|\t|\t|\t|\t|\t|\t|\t|\t|\t|\t|\t|\t|\t|\t|\t|\t|\t+-- [SPLIT: x16 = 3.0]\n",
            "|\t|\t|\t|\t|\t|\t|\t|\t|\t|\t|\t|\t|\t|\t|\t|\t|\t|\t|\t+-- [SPLIT: x6 = 1.08325080265895]\n",
            "|\t|\t|\t|\t|\t|\t|\t|\t|\t|\t|\t|\t|\t|\t|\t|\t|\t|\t|\t|\t+-- [LABEL = 0]\n",
            "|\t|\t|\t|\t|\t|\t|\t|\t|\t|\t|\t|\t|\t|\t|\t|\t|\t|\t|\t+-- [SPLIT: x6 = 1.08325080265895]\n",
            "|\t|\t|\t|\t|\t|\t|\t|\t|\t|\t|\t|\t|\t|\t|\t|\t|\t|\t|\t|\t+-- [LABEL = 1]\n",
            "|\t|\t|\t|\t|\t|\t|\t|\t|\t|\t|\t|\t|\t|\t|\t|\t|\t|\t+-- [SPLIT: x16 = 3.0]\n",
            "|\t|\t|\t|\t|\t|\t|\t|\t|\t|\t|\t|\t|\t|\t|\t|\t|\t|\t|\t+-- [SPLIT: x1 = 1.1749449582614113]\n",
            "|\t|\t|\t|\t|\t|\t|\t|\t|\t|\t|\t|\t|\t|\t|\t|\t|\t|\t|\t|\t+-- [LABEL = 0]\n",
            "|\t|\t|\t|\t|\t|\t|\t|\t|\t|\t|\t|\t|\t|\t|\t|\t|\t|\t|\t+-- [SPLIT: x1 = 1.1749449582614113]\n",
            "|\t|\t|\t|\t|\t|\t|\t|\t|\t|\t|\t|\t|\t|\t|\t|\t|\t|\t|\t|\t+-- [LABEL = 1]\n",
            "|\t|\t|\t|\t|\t|\t|\t|\t|\t|\t|\t|\t|\t|\t|\t|\t|\t+-- [SPLIT: x8 = 1.3290238726549564]\n",
            "|\t|\t|\t|\t|\t|\t|\t|\t|\t|\t|\t|\t|\t|\t|\t|\t|\t|\t+-- [SPLIT: x2 = 0.8652428503525783]\n",
            "|\t|\t|\t|\t|\t|\t|\t|\t|\t|\t|\t|\t|\t|\t|\t|\t|\t|\t|\t+-- [LABEL = 1]\n",
            "|\t|\t|\t|\t|\t|\t|\t|\t|\t|\t|\t|\t|\t|\t|\t|\t|\t|\t+-- [SPLIT: x2 = 0.8652428503525783]\n",
            "|\t|\t|\t|\t|\t|\t|\t|\t|\t|\t|\t|\t|\t|\t|\t|\t|\t|\t|\t+-- [SPLIT: x1 = 0.5300768508792684]\n",
            "|\t|\t|\t|\t|\t|\t|\t|\t|\t|\t|\t|\t|\t|\t|\t|\t|\t|\t|\t|\t+-- [LABEL = 0]\n",
            "|\t|\t|\t|\t|\t|\t|\t|\t|\t|\t|\t|\t|\t|\t|\t|\t|\t|\t|\t+-- [SPLIT: x1 = 0.5300768508792684]\n",
            "|\t|\t|\t|\t|\t|\t|\t|\t|\t|\t|\t|\t|\t|\t|\t|\t|\t|\t|\t|\t+-- [LABEL = 1]\n",
            "|\t|\t|\t|\t|\t|\t|\t|\t|\t|\t|\t|\t|\t|\t|\t|\t+-- [SPLIT: x12 = 0.998174517993047]\n",
            "|\t|\t|\t|\t|\t|\t|\t|\t|\t|\t|\t|\t|\t|\t|\t|\t|\t+-- [LABEL = 1]\n",
            "|\t|\t|\t|\t|\t|\t|\t|\t|\t|\t|\t|\t|\t|\t|\t+-- [SPLIT: x7 = 0.3214413144421912]\n",
            "|\t|\t|\t|\t|\t|\t|\t|\t|\t|\t|\t|\t|\t|\t|\t|\t+-- [SPLIT: x1 = 1.5560033853508595]\n",
            "|\t|\t|\t|\t|\t|\t|\t|\t|\t|\t|\t|\t|\t|\t|\t|\t|\t+-- [SPLIT: x1 = 1.8491252523427428]\n",
            "|\t|\t|\t|\t|\t|\t|\t|\t|\t|\t|\t|\t|\t|\t|\t|\t|\t|\t+-- [LABEL = 0]\n",
            "|\t|\t|\t|\t|\t|\t|\t|\t|\t|\t|\t|\t|\t|\t|\t|\t|\t+-- [SPLIT: x1 = 1.8491252523427428]\n",
            "|\t|\t|\t|\t|\t|\t|\t|\t|\t|\t|\t|\t|\t|\t|\t|\t|\t|\t+-- [LABEL = 1]\n",
            "|\t|\t|\t|\t|\t|\t|\t|\t|\t|\t|\t|\t|\t|\t|\t|\t+-- [SPLIT: x1 = 1.5560033853508595]\n",
            "|\t|\t|\t|\t|\t|\t|\t|\t|\t|\t|\t|\t|\t|\t|\t|\t|\t+-- [LABEL = 1]\n",
            "|\t|\t|\t|\t|\t|\t|\t|\t|\t|\t|\t|\t|\t|\t+-- [SPLIT: x6 = 1.6215832745936]\n",
            "|\t|\t|\t|\t|\t|\t|\t|\t|\t|\t|\t|\t|\t|\t|\t+-- [LABEL = 1]\n",
            "|\t|\t|\t|\t|\t|\t|\t|\t|\t|\t|\t|\t+-- [SPLIT: x0 = 0.0]\n",
            "|\t|\t|\t|\t|\t|\t|\t|\t|\t|\t|\t|\t|\t+-- [SPLIT: x6 = 1.834243053048459]\n",
            "|\t|\t|\t|\t|\t|\t|\t|\t|\t|\t|\t|\t|\t|\t+-- [SPLIT: x8 = 1.3290238726549564]\n",
            "|\t|\t|\t|\t|\t|\t|\t|\t|\t|\t|\t|\t|\t|\t|\t+-- [SPLIT: x5 = -1.2541296804089648]\n",
            "|\t|\t|\t|\t|\t|\t|\t|\t|\t|\t|\t|\t|\t|\t|\t|\t+-- [SPLIT: x13 = -1.177167462857744]\n",
            "|\t|\t|\t|\t|\t|\t|\t|\t|\t|\t|\t|\t|\t|\t|\t|\t|\t+-- [SPLIT: x3 = -3.7909504829339493]\n",
            "|\t|\t|\t|\t|\t|\t|\t|\t|\t|\t|\t|\t|\t|\t|\t|\t|\t|\t+-- [SPLIT: x4 = -0.981957258428386]\n",
            "|\t|\t|\t|\t|\t|\t|\t|\t|\t|\t|\t|\t|\t|\t|\t|\t|\t|\t|\t+-- [SPLIT: x5 = 1.4346365172402313]\n",
            "|\t|\t|\t|\t|\t|\t|\t|\t|\t|\t|\t|\t|\t|\t|\t|\t|\t|\t|\t|\t+-- [LABEL = 0]\n",
            "|\t|\t|\t|\t|\t|\t|\t|\t|\t|\t|\t|\t|\t|\t|\t|\t|\t|\t|\t+-- [SPLIT: x5 = 1.4346365172402313]\n",
            "|\t|\t|\t|\t|\t|\t|\t|\t|\t|\t|\t|\t|\t|\t|\t|\t|\t|\t|\t|\t+-- [LABEL = 1]\n",
            "|\t|\t|\t|\t|\t|\t|\t|\t|\t|\t|\t|\t|\t|\t|\t|\t|\t|\t+-- [SPLIT: x4 = -0.981957258428386]\n",
            "|\t|\t|\t|\t|\t|\t|\t|\t|\t|\t|\t|\t|\t|\t|\t|\t|\t|\t|\t+-- [LABEL = 1]\n",
            "|\t|\t|\t|\t|\t|\t|\t|\t|\t|\t|\t|\t|\t|\t|\t|\t|\t+-- [SPLIT: x3 = -3.7909504829339493]\n",
            "|\t|\t|\t|\t|\t|\t|\t|\t|\t|\t|\t|\t|\t|\t|\t|\t|\t|\t+-- [LABEL = 1]\n",
            "|\t|\t|\t|\t|\t|\t|\t|\t|\t|\t|\t|\t|\t|\t|\t|\t+-- [SPLIT: x13 = -1.177167462857744]\n",
            "|\t|\t|\t|\t|\t|\t|\t|\t|\t|\t|\t|\t|\t|\t|\t|\t|\t+-- [LABEL = 1]\n",
            "|\t|\t|\t|\t|\t|\t|\t|\t|\t|\t|\t|\t|\t|\t|\t+-- [SPLIT: x5 = -1.2541296804089648]\n",
            "|\t|\t|\t|\t|\t|\t|\t|\t|\t|\t|\t|\t|\t|\t|\t|\t+-- [SPLIT: x1 = -0.11479125650287468]\n",
            "|\t|\t|\t|\t|\t|\t|\t|\t|\t|\t|\t|\t|\t|\t|\t|\t|\t+-- [LABEL = 0]\n",
            "|\t|\t|\t|\t|\t|\t|\t|\t|\t|\t|\t|\t|\t|\t|\t|\t+-- [SPLIT: x1 = -0.11479125650287468]\n",
            "|\t|\t|\t|\t|\t|\t|\t|\t|\t|\t|\t|\t|\t|\t|\t|\t|\t+-- [LABEL = 1]\n",
            "|\t|\t|\t|\t|\t|\t|\t|\t|\t|\t|\t|\t|\t|\t+-- [SPLIT: x8 = 1.3290238726549564]\n",
            "|\t|\t|\t|\t|\t|\t|\t|\t|\t|\t|\t|\t|\t|\t|\t+-- [SPLIT: x2 = 0.2448151096677031]\n",
            "|\t|\t|\t|\t|\t|\t|\t|\t|\t|\t|\t|\t|\t|\t|\t|\t+-- [LABEL = 1]\n",
            "|\t|\t|\t|\t|\t|\t|\t|\t|\t|\t|\t|\t|\t|\t|\t+-- [SPLIT: x2 = 0.2448151096677031]\n",
            "|\t|\t|\t|\t|\t|\t|\t|\t|\t|\t|\t|\t|\t|\t|\t|\t+-- [LABEL = 0]\n",
            "|\t|\t|\t|\t|\t|\t|\t|\t|\t|\t|\t|\t|\t+-- [SPLIT: x6 = 1.834243053048459]\n",
            "|\t|\t|\t|\t|\t|\t|\t|\t|\t|\t|\t|\t|\t|\t+-- [LABEL = 1]\n",
            "|\t|\t|\t|\t|\t|\t|\t|\t|\t|\t|\t+-- [SPLIT: x3 = 2.0223502588829914]\n",
            "|\t|\t|\t|\t|\t|\t|\t|\t|\t|\t|\t|\t+-- [SPLIT: x16 = 17.0]\n",
            "|\t|\t|\t|\t|\t|\t|\t|\t|\t|\t|\t|\t|\t+-- [SPLIT: x8 = -0.4107956921570727]\n",
            "|\t|\t|\t|\t|\t|\t|\t|\t|\t|\t|\t|\t|\t|\t+-- [SPLIT: x6 = -1.3974178818267893]\n",
            "|\t|\t|\t|\t|\t|\t|\t|\t|\t|\t|\t|\t|\t|\t|\t+-- [SPLIT: x4 = 0.6704892030440318]\n",
            "|\t|\t|\t|\t|\t|\t|\t|\t|\t|\t|\t|\t|\t|\t|\t|\t+-- [SPLIT: x7 = -0.9571848186331471]\n",
            "|\t|\t|\t|\t|\t|\t|\t|\t|\t|\t|\t|\t|\t|\t|\t|\t|\t+-- [SPLIT: x9 = -0.4114346145757406]\n",
            "|\t|\t|\t|\t|\t|\t|\t|\t|\t|\t|\t|\t|\t|\t|\t|\t|\t|\t+-- [SPLIT: x10 = -0.9694379711344298]\n",
            "|\t|\t|\t|\t|\t|\t|\t|\t|\t|\t|\t|\t|\t|\t|\t|\t|\t|\t|\t+-- [SPLIT: x0 = 3.0]\n",
            "|\t|\t|\t|\t|\t|\t|\t|\t|\t|\t|\t|\t|\t|\t|\t|\t|\t|\t|\t|\t+-- [LABEL = 1]\n",
            "|\t|\t|\t|\t|\t|\t|\t|\t|\t|\t|\t|\t|\t|\t|\t|\t|\t|\t|\t+-- [SPLIT: x0 = 3.0]\n",
            "|\t|\t|\t|\t|\t|\t|\t|\t|\t|\t|\t|\t|\t|\t|\t|\t|\t|\t|\t|\t+-- [LABEL = 0]\n",
            "|\t|\t|\t|\t|\t|\t|\t|\t|\t|\t|\t|\t|\t|\t|\t|\t|\t|\t+-- [SPLIT: x10 = -0.9694379711344298]\n",
            "|\t|\t|\t|\t|\t|\t|\t|\t|\t|\t|\t|\t|\t|\t|\t|\t|\t|\t|\t+-- [LABEL = 0]\n",
            "|\t|\t|\t|\t|\t|\t|\t|\t|\t|\t|\t|\t|\t|\t|\t|\t|\t+-- [SPLIT: x9 = -0.4114346145757406]\n",
            "|\t|\t|\t|\t|\t|\t|\t|\t|\t|\t|\t|\t|\t|\t|\t|\t|\t|\t+-- [LABEL = 0]\n",
            "|\t|\t|\t|\t|\t|\t|\t|\t|\t|\t|\t|\t|\t|\t|\t|\t+-- [SPLIT: x7 = -0.9571848186331471]\n",
            "|\t|\t|\t|\t|\t|\t|\t|\t|\t|\t|\t|\t|\t|\t|\t|\t|\t+-- [LABEL = 0]\n",
            "|\t|\t|\t|\t|\t|\t|\t|\t|\t|\t|\t|\t|\t|\t|\t+-- [SPLIT: x4 = 0.6704892030440318]\n",
            "|\t|\t|\t|\t|\t|\t|\t|\t|\t|\t|\t|\t|\t|\t|\t|\t+-- [LABEL = 0]\n",
            "|\t|\t|\t|\t|\t|\t|\t|\t|\t|\t|\t|\t|\t|\t+-- [SPLIT: x6 = -1.3974178818267893]\n",
            "|\t|\t|\t|\t|\t|\t|\t|\t|\t|\t|\t|\t|\t|\t|\t+-- [LABEL = 0]\n",
            "|\t|\t|\t|\t|\t|\t|\t|\t|\t|\t|\t|\t|\t+-- [SPLIT: x8 = -0.4107956921570727]\n",
            "|\t|\t|\t|\t|\t|\t|\t|\t|\t|\t|\t|\t|\t|\t+-- [SPLIT: x6 = 0.7237464149890482]\n",
            "|\t|\t|\t|\t|\t|\t|\t|\t|\t|\t|\t|\t|\t|\t|\t+-- [LABEL = 0]\n",
            "|\t|\t|\t|\t|\t|\t|\t|\t|\t|\t|\t|\t|\t|\t+-- [SPLIT: x6 = 0.7237464149890482]\n",
            "|\t|\t|\t|\t|\t|\t|\t|\t|\t|\t|\t|\t|\t|\t|\t+-- [LABEL = 1]\n",
            "|\t|\t|\t|\t|\t|\t|\t|\t|\t|\t|\t|\t+-- [SPLIT: x16 = 17.0]\n",
            "|\t|\t|\t|\t|\t|\t|\t|\t|\t|\t|\t|\t|\t+-- [LABEL = 0]\n",
            "|\t|\t|\t|\t|\t|\t|\t|\t|\t|\t+-- [SPLIT: x15 = 0.0]\n",
            "|\t|\t|\t|\t|\t|\t|\t|\t|\t|\t|\t+-- [LABEL = 0]\n",
            "Accuracy: 0.6751717369970559\n",
            "Precision: 0.6282894736842105\n",
            "Recall: 0.0624795551193981\n",
            "F1 Score: 0.11365664980660518\n",
            "AUC-ROC: 0.5219986915276414\n",
            "Mean Absolute Error: 0.32482826300294404\n",
            "Root Mean Squared Error: 0.5699370693356803\n"
          ]
        },
        {
          "data": {
            "image/png": "[encoded data removed]",
            "text/plain": [
              "<Figure size 640x480 with 2 Axes>"
            ]
          },
          "metadata": {},
          "output_type": "display_data"
        },
        {
          "data": {
            "image/png": "[encoded data removed]",
            "text/plain": [
              "<Figure size 640x480 with 1 Axes>"
            ]
          },
          "metadata": {},
          "output_type": "display_data"
        }
      ],
      "source": [
        "decision_tree = id3(Xtrn, ytrn, max_depth=10)\n",
        "y_tr_pred = [predict_example(x, decision_tree) for x in Xtrn]\n",
        "trn_err = compute_error(ytrn, y_tr_pred)*100\n",
        "\n",
        "y_pred = [predict_example(x, decision_tree) for x in Xtst]\n",
        "tst_err = (compute_error(ytst, y_pred)*100)\n",
        "\n",
        "print(trn_err)\n",
        "print(tst_err)  \n",
        "#tree_pred = decision_tree.predict(Xtst)\n",
        "visualize(decision_tree,10)\n",
        "evaluate_model(ytst,y_pred)\n",
        "fpr, tpr, _ = roc_curve(ytst,y_pred, pos_label=model.classes_[1])\n",
        "roc_display = RocCurveDisplay(fpr=fpr, tpr=tpr).plot()"
      ]
    },
    {
      "cell_type": "code",
      "execution_count": 39,
      "metadata": {
        "id": "0SNeNT0_0ova"
      },
      "outputs": [],
      "source": [
        "class LogisticRegression:\n",
        "    def __init__(self, lr=0.1, num_iters=2000):\n",
        "        self.lr = lr\n",
        "        self.num_iters = num_iters\n",
        "        self.weights = None\n",
        "        self.bias = None\n",
        "    \n",
        "    def sigmoid(self, z):\n",
        "        z = np.clip(z, -500, 500)\n",
        "        return 1 / (1 + np.exp(-z))\n",
        "    \n",
        "    def binary_cross_entropy_loss(self, y, y_hat):\n",
        "        loss = -(y * np.log(y_hat + 1e-7) + (1 - y) * np.log(1 - y_hat + 1e-7))\n",
        "        return loss\n",
        "    \n",
        "    def fit(self, X, y):\n",
        "        num_samples, num_features = X.shape\n",
        "        self.weights = np.zeros(num_features)\n",
        "        self.bias = 0\n",
        "        \n",
        "        for i in range(self.num_iters):\n",
        "            # forward propagation\n",
        "            linear_model = np.dot(X, self.weights) + self.bias\n",
        "            y_pred = self.sigmoid(linear_model)\n",
        "            loss = self.binary_cross_entropy_loss(y, y_pred)\n",
        "            \n",
        "            # backward propagation\n",
        "            dw = (1 / num_samples) * np.dot(X.T, (y_pred - y))\n",
        "            db = (1 / num_samples) * np.sum(y_pred - y)\n",
        "            \n",
        "            # update weights and bias\n",
        "            self.weights -= self.lr * dw\n",
        "            self.bias -= self.lr * db\n",
        "    \n",
        "    def predict(self, X):\n",
        "        linear_model = np.dot(X, self.weights) + self.bias\n",
        "        y_pred = self.sigmoid(linear_model)\n",
        "        y_pred_class = [1 if i > 0.5 else 0 for i in y_pred]\n",
        "        return y_pred_class"
      ]
    },
    {
      "cell_type": "code",
      "execution_count": 40,
      "metadata": {
        "colab": {
          "base_uri": "https://localhost:8080/",
          "height": 549
        },
        "id": "apgFa8px0qPW",
        "outputId": "c43fa41f-2f55-4143-ca7a-081a82e11ba3"
      },
      "outputs": [
        {
          "name": "stdout",
          "output_type": "stream",
          "text": [
            "Accuracy: 0.505506487842111\n",
            "Precision: 0.38913010929779906\n",
            "Recall: 0.8510150622134905\n",
            "F1 Score: 0.5340593855953971\n",
            "AUC-ROC: 0.5920107189439203\n",
            "Mean Absolute Error: 0.494493512157889\n",
            "Root Mean Squared Error: 0.7032023266158105\n"
          ]
        },
        {
          "data": {
            "image/png": "[encoded data removed]",
            "text/plain": [
              "<Figure size 640x480 with 2 Axes>"
            ]
          },
          "metadata": {},
          "output_type": "display_data"
        }
      ],
      "source": [
        "lr = LogisticRegression()\n",
        "lr.fit(Xtrn, ytrn)\n",
        "\n",
        "y_pred = lr.predict(Xtst)\n",
        "evaluate_model(ytst,y_pred)"
      ]
    },
    {
      "cell_type": "code",
      "execution_count": 45,
      "metadata": {
        "id": "xZt1jpuIlw0v"
      },
      "outputs": [],
      "source": [
        "class LogisticRegressionReg:\n",
        "    def __init__(self, learning_rate=0.1, num_iterations=3000, lambda_reg=0.01):\n",
        "        self.learning_rate = learning_rate\n",
        "        self.num_iterations = num_iterations\n",
        "        self.lambda_reg = lambda_reg\n",
        "        \n",
        "    def sigmoid(self, z):\n",
        "        z = np.clip(z, -500, 500)\n",
        "        return 1 / (1 + np.exp(-z))\n",
        "    \n",
        "    def cost_function(self, X, y, w):\n",
        "        m = X.shape[0]\n",
        "        z = np.dot(X, w)\n",
        "        h = self.sigmoid(z)\n",
        "        J = (-1/m) * np.sum(y * np.log(h + 1e-7) + (1 - y) * np.log(1 - h + 1e-7))\n",
        "        reg = (self.lambda_reg / (2 * m)) * np.sum(w**2)\n",
        "        J += reg\n",
        "        return J\n",
        "    \n",
        "    def fit(self, X, y):\n",
        "        m, n = X.shape\n",
        "        X = np.concatenate([np.ones((m, 1)), X], axis=1)\n",
        "        y = y.reshape(-1, 1)\n",
        "        w = np.zeros((n+1, 1))\n",
        "        \n",
        "        for i in range(self.num_iterations):\n",
        "            z = np.dot(X, w)\n",
        "            h = self.sigmoid(z)\n",
        "            grad = (1/m) * np.dot(X.T, (h - y))\n",
        "            reg = (self.lambda_reg / m) * w\n",
        "            reg[0] = 0  # Exclude regularization for bias term\n",
        "            grad += reg\n",
        "            w -= self.learning_rate * grad\n",
        "            \n",
        "            if i % 100 == 0:\n",
        "                J = self.cost_function(X, y, w)\n",
        "                print(\"Cost after iteration {}: {}\".format(i, J))\n",
        "                \n",
        "        self.w = w\n",
        "        \n",
        "    def predict(self, X):\n",
        "        m = X.shape[0]\n",
        "        X = np.concatenate([np.ones((m, 1)), X], axis=1)\n",
        "        z = np.dot(X, self.w)\n",
        "        y_pred = self.sigmoid(z)\n",
        "        y_pred_class = np.where(y_pred >= 0.5, 1, 0)\n",
        "        return y_pred_class"
      ]
    },
    {
      "cell_type": "code",
      "execution_count": 46,
      "metadata": {
        "colab": {
          "base_uri": "https://localhost:8080/",
          "height": 1000
        },
        "id": "kTS1YaPfl98S",
        "outputId": "9ba08bc1-c822-428f-d026-30ae17020609"
      },
      "outputs": [
        {
          "name": "stdout",
          "output_type": "stream",
          "text": [
            "Cost after iteration 0: 5.147320507613444\n",
            "Cost after iteration 100: 5.831695623796819\n",
            "Cost after iteration 200: 4.395300622803242\n",
            "Cost after iteration 300: 7.378402976882217\n",
            "Cost after iteration 400: 6.2753611955756865\n",
            "Cost after iteration 500: 6.6209092447595905\n",
            "Cost after iteration 600: 5.361663727741624\n",
            "Cost after iteration 700: 5.355710773192808\n",
            "Cost after iteration 800: 5.312106975047243\n",
            "Cost after iteration 900: 3.9598270318933455\n",
            "Cost after iteration 1000: 4.687108797764475\n",
            "Cost after iteration 1100: 5.37403768228525\n",
            "Cost after iteration 1200: 5.411949728769203\n",
            "Cost after iteration 1300: 5.374041786361084\n",
            "Cost after iteration 1400: 7.662966140445682\n",
            "Cost after iteration 1500: 4.448865456434748\n",
            "Cost after iteration 1600: 5.094520476882436\n",
            "Cost after iteration 1700: 5.01071861452616\n",
            "Cost after iteration 1800: 7.575441343270895\n",
            "Cost after iteration 1900: 6.947733196858749\n",
            "Cost after iteration 2000: 7.228083604851802\n",
            "Cost after iteration 2100: 9.66924438365595\n",
            "Cost after iteration 2200: 7.65730924098901\n",
            "Cost after iteration 2300: 4.728398194614785\n",
            "Cost after iteration 2400: 5.303509632040289\n",
            "Cost after iteration 2500: 5.5282312031436405\n",
            "Cost after iteration 2600: 5.292447473083445\n",
            "Cost after iteration 2700: 7.355773058474177\n",
            "Cost after iteration 2800: 7.879833558592685\n",
            "Cost after iteration 2900: 4.924377704994422\n",
            "Accuracy: 0.6681932177516083\n",
            "Precision: 1.0\n",
            "Recall: 0.003601833660772757\n",
            "F1 Score: 0.007177814029363784\n",
            "AUC-ROC: 0.5018009168303864\n",
            "Mean Absolute Error: 0.33180678224839166\n",
            "Root Mean Squared Error: 0.5760267200819695\n"
          ]
        },
        {
          "data": {
            "image/png": "[encoded data removed]",
            "text/plain": [
              "<Figure size 640x480 with 2 Axes>"
            ]
          },
          "metadata": {},
          "output_type": "display_data"
        }
      ],
      "source": [
        "lrreg = LogisticRegressionReg()\n",
        "lrreg.fit(Xtrn, ytrn)\n",
        "\n",
        "y_pred = lrreg.predict(Xtst)\n",
        "evaluate_model(ytst,y_pred)"
      ]
    },
    {
      "cell_type": "code",
      "execution_count": 47,
      "metadata": {
        "colab": {
          "base_uri": "https://localhost:8080/",
          "height": 600
        },
        "id": "vNNOipxiWnQp",
        "outputId": "21a39342-8905-46d3-88bd-89c47c427b06"
      },
      "outputs": [
        {
          "name": "stdout",
          "output_type": "stream",
          "text": [
            "[02:34:05] WARNING: ../src/learner.cc:767: \n",
            "Parameters: { \"silent\" } are not used.\n",
            "\n",
            "Accuracy: 0.8557409224730128\n",
            "Precision: 0.8204368752313957\n",
            "Recall: 0.7256057629338573\n",
            "F1 Score: 0.770112945264987\n",
            "AUC-ROC: 0.8231592653152202\n",
            "Mean Absolute Error: 0.14425907752698724\n",
            "Root Mean Squared Error: 0.37981453043161373\n"
          ]
        },
        {
          "data": {
            "image/png": "[encoded data removed]",
            "text/plain": [
              "<Figure size 640x480 with 2 Axes>"
            ]
          },
          "metadata": {},
          "output_type": "display_data"
        }
      ],
      "source": [
        "import xgboost as xgb\n",
        "dtrain = xgb.DMatrix(Xtrn, label=ytrn)\n",
        "dtest = xgb.DMatrix(Xtst, label=ytst)\n",
        "param = {\n",
        "    'max_depth': 5,  \n",
        "    'eta': 0.3,  \n",
        "    'silent': 1,  \n",
        "    'objective': 'binary:logistic'}  \n",
        "num_round = 100\n",
        "bst = xgb.train(param, dtrain, num_round)\n",
        "xgb_predictions = bst.predict(dtest)\n",
        "prediction = []\n",
        "for i in xgb_predictions:\n",
        "  if i<0.5:\n",
        "    prediction.append(0)\n",
        "  else:\n",
        "    prediction.append(1)\n",
        "evaluate_model(y_test,prediction)"
      ]
    },
    {
      "cell_type": "code",
      "execution_count": 50,
      "metadata": {
        "colab": {
          "base_uri": "https://localhost:8080/",
          "height": 549
        },
        "id": "n38QF_0DXMxd",
        "outputId": "9d61fb79-d8ce-4e39-c504-dd5e708257db"
      },
      "outputs": [
        {
          "name": "stdout",
          "output_type": "stream",
          "text": [
            "Accuracy: 0.7787591320466688\n",
            "Precision: 0.7052462955546656\n",
            "Recall: 0.5766208251473477\n",
            "F1 Score: 0.634480273824536\n",
            "AUC-ROC: 0.7281502033207721\n",
            "Mean Absolute Error: 0.22124086795333114\n",
            "Root Mean Squared Error: 0.4703624856994137\n"
          ]
        },
        {
          "data": {
            "image/png": "[encoded data removed]",
            "text/plain": [
              "<Figure size 640x480 with 2 Axes>"
            ]
          },
          "metadata": {},
          "output_type": "display_data"
        }
      ],
      "source": [
        "from sklearn.neural_network import MLPClassifier\n",
        "nn = MLPClassifier(hidden_layer_sizes=(20,20,20), max_iter=1000,activation = 'relu',solver='adam',random_state=1)\n",
        "nn.fit(Xtrn, ytrn)\n",
        "y_pred = nn.predict(Xtst)\n",
        "evaluate_model(ytst,y_pred)"
      ]
    }
  ],
  "metadata": {
    "colab": {
      "provenance": []
    },
    "kernelspec": {
      "display_name": "Python 3",
      "name": "python3"
    },
    "language_info": {
      "name": "python"
    }
  },
  "nbformat": 4,
  "nbformat_minor": 0
}
